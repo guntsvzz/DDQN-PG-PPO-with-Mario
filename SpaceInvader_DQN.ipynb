{
 "cells": [
  {
   "cell_type": "code",
   "execution_count": 3,
   "metadata": {},
   "outputs": [],
   "source": [
    "import numpy as np\n",
    "import random\n",
    "from collections import deque\n",
    "import torch\n",
    "import math\n",
    "import torch.nn as nn\n",
    "import gym\n",
    "\n",
    "def gen_epsilon_greedy_policy(epsilon):\n",
    "    def policy_function(state, Q, available_actions):\n",
    "        probs = torch.ones(available_actions) * epsilon / len(available_actions)\n",
    "        best_action = Q(state).squeeze()[available_actions].argmax().item()\n",
    "        probs[best_action] += 1.0 - epsilon\n",
    "        action = torch.multinomial(probs,1).item()\n",
    "        return available_actions[action]\n",
    "    return policy_function\n",
    "\n",
    "class Q_network(nn.Module):\n",
    "    \n",
    "    def __init__(self, n_action):\n",
    "        super(Q_network, self).__init__()        \n",
    "        self.layers = nn.Sequential(\n",
    "            nn.Conv2d(4, 16, 3, stride=2),\n",
    "            nn.ReLU(),\n",
    "            nn.Conv2d(16, 32, 3, stride=2),\n",
    "            nn.ReLU(),\n",
    "            nn.Conv2d(32, 64, 3, stride=2),\n",
    "            nn.ReLU(),\n",
    "            nn.Conv2d(64, 64, 3, stride=2),\n",
    "            nn.ReLU(),\n",
    "            nn.AvgPool2d((12,9)),\n",
    "            nn.Flatten(),\n",
    "            nn.Linear(64, 32),\n",
    "            nn.ReLU(),\n",
    "            nn.Linear(32, n_action)\n",
    "        )\n",
    "        \n",
    "    def forward(self, x):\n",
    "        return self.layers(x)\n",
    "\n",
    "\n",
    "class ReplayBuffer(object):\n",
    "    def __init__(self, capacity):\n",
    "        self.buffer = deque(maxlen=capacity)\n",
    "    \n",
    "    def push(self, state, action, reward, next_state, done):\n",
    "        self.buffer.append((state, action, reward, next_state, done))\n",
    "    \n",
    "    def sample(self, batch_size):\n",
    "        state, action, reward, next_state, done = zip(*random.sample(self.buffer, batch_size))\n",
    "        return torch.stack(state).squeeze(),  torch.tensor(action), torch.tensor(reward), torch.tensor(next_state).squeeze(), torch.tensor(done).squeeze()\n",
    "    \n",
    "    def __len__(self):\n",
    "        return len(self.buffer)\n",
    "\n",
    "def gen_eps_by_episode(epsilon_start, epsilon_final, epsilon_decay):\n",
    "    def eps_by_episode(episode):\n",
    "        return epsilon_final + (epsilon_start - epsilon_final) * math.exp(-1. * episode / epsilon_decay)\n",
    "    return eps_by_episode\n",
    "\n",
    "class Agent(object):\n",
    "\n",
    "    def __init__(self, env, eps_by_episode):\n",
    "        self.env = env\n",
    "        self.n_actions = env.action_space.n\n",
    "        self.eps_by_episode = eps_by_episode\n",
    "        self.episodes = 0\n",
    "        self.stack_size = 4\n",
    "        self.skip_frames = 4\n",
    "        self.restart_episode()\n",
    "\n",
    "    def buffer(self,obs):\n",
    "        obs = torch.tensor(obs).max(2).values / 255.0\n",
    "        self.obs_buffer.appned(obs.cuda())\n",
    "\n",
    "    def restart_episode(self):\n",
    "        obs, info = self.env.reset()\n",
    "        self.policy = gen_epsilon_greedy_policy(self.eps_by_episode(self.episodes))\n",
    "        self.obs_buffer = deque(maxlen=((self.stack_size-1)*self.skip_frames+1))\n",
    "        self.buffer(obs)\n",
    "        self.episodes += 1\n",
    "\n",
    "    def collect_state(self):\n",
    "        frame_inds = [1-n*self.skip_frames for n in range(self.stack_size)]\n",
    "        frames = [self.obs_buffer[max(f,-len(self.obs_buffer))] for f in frame_inds]\n",
    "        return torch.stack(frames)\n",
    "\n",
    "    def act(self,Q):\n",
    "        state = self.collect_state().squeeze(0)\n",
    "        action = self.policy(state,Q,range(self.n_actions))\n",
    "        obs, reward, terminated , truncated, info = self.env.step(action)\n",
    "        self.buffer(obs)\n",
    "        new_state = self.collect_state().squeeze(0)\n",
    "        if terminated or truncated:\n",
    "            self.restart_episode()\n",
    "        return state, action, reward, new_state, terminated or truncated"
   ]
  },
  {
   "cell_type": "code",
   "execution_count": 4,
   "metadata": {},
   "outputs": [
    {
     "data": {
      "text/plain": [
       "device(type='cpu')"
      ]
     },
     "execution_count": 4,
     "metadata": {},
     "output_type": "execute_result"
    }
   ],
   "source": [
    "import torch\n",
    "device = torch.device(\"cuda:0\" if (torch.cuda.is_available()) else \"cpu\")\n",
    "device"
   ]
  },
  {
   "cell_type": "markdown",
   "metadata": {},
   "source": [
    "<img src = \"Methodology.jpg\" width=\"800\">"
   ]
  },
  {
   "cell_type": "code",
   "execution_count": 5,
   "metadata": {},
   "outputs": [
    {
     "ename": "TypeError",
     "evalue": "empty() received an invalid combination of arguments - got (tuple, dtype=NoneType, device=NoneType), but expected one of:\n * (tuple of ints size, *, tuple of names names, torch.memory_format memory_format, torch.dtype dtype, torch.layout layout, torch.device device, bool pin_memory, bool requires_grad)\n * (tuple of ints size, *, torch.memory_format memory_format, Tensor out, torch.dtype dtype, torch.layout layout, torch.device device, bool pin_memory, bool requires_grad)\n",
     "output_type": "error",
     "traceback": [
      "\u001b[1;31m---------------------------------------------------------------------------\u001b[0m",
      "\u001b[1;31mTypeError\u001b[0m                                 Traceback (most recent call last)",
      "\u001b[1;32mc:\\Users\\Guntsv\\Downloads\\AIT\\AT82.03 Machine Learning (ML)\\Laboratory\\ML2022-13-Reinforcement-Learning\\DQN.ipynb Cell 3\u001b[0m in \u001b[0;36m<cell line: 16>\u001b[1;34m()\u001b[0m\n\u001b[0;32m     <a href='vscode-notebook-cell:/c%3A/Users/Guntsv/Downloads/AIT/AT82.03%20Machine%20Learning%20%28ML%29/Laboratory/ML2022-13-Reinforcement-Learning/DQN.ipynb#W1sZmlsZQ%3D%3D?line=12'>13</a>\u001b[0m batch_size \u001b[39m=\u001b[39m \u001b[39m64\u001b[39m\n\u001b[0;32m     <a href='vscode-notebook-cell:/c%3A/Users/Guntsv/Downloads/AIT/AT82.03%20Machine%20Learning%20%28ML%29/Laboratory/ML2022-13-Reinforcement-Learning/DQN.ipynb#W1sZmlsZQ%3D%3D?line=13'>14</a>\u001b[0m gamma \u001b[39m=\u001b[39m \u001b[39m0.99\u001b[39m\n\u001b[1;32m---> <a href='vscode-notebook-cell:/c%3A/Users/Guntsv/Downloads/AIT/AT82.03%20Machine%20Learning%20%28ML%29/Laboratory/ML2022-13-Reinforcement-Learning/DQN.ipynb#W1sZmlsZQ%3D%3D?line=15'>16</a>\u001b[0m Q \u001b[39m=\u001b[39m Q_network(n_actions)\u001b[39m.\u001b[39mcuda()\n\u001b[0;32m     <a href='vscode-notebook-cell:/c%3A/Users/Guntsv/Downloads/AIT/AT82.03%20Machine%20Learning%20%28ML%29/Laboratory/ML2022-13-Reinforcement-Learning/DQN.ipynb#W1sZmlsZQ%3D%3D?line=16'>17</a>\u001b[0m Qhat \u001b[39m=\u001b[39m Q_network\u001b[39m.\u001b[39mcuda()\n\u001b[0;32m     <a href='vscode-notebook-cell:/c%3A/Users/Guntsv/Downloads/AIT/AT82.03%20Machine%20Learning%20%28ML%29/Laboratory/ML2022-13-Reinforcement-Learning/DQN.ipynb#W1sZmlsZQ%3D%3D?line=17'>18</a>\u001b[0m D \u001b[39m=\u001b[39m ReplayBuffer(bufsize)\n",
      "\u001b[1;32mc:\\Users\\Guntsv\\Downloads\\AIT\\AT82.03 Machine Learning (ML)\\Laboratory\\ML2022-13-Reinforcement-Learning\\DQN.ipynb Cell 3\u001b[0m in \u001b[0;36mQ_network.__init__\u001b[1;34m(self, n_action)\u001b[0m\n\u001b[0;32m     <a href='vscode-notebook-cell:/c%3A/Users/Guntsv/Downloads/AIT/AT82.03%20Machine%20Learning%20%28ML%29/Laboratory/ML2022-13-Reinforcement-Learning/DQN.ipynb#W1sZmlsZQ%3D%3D?line=19'>20</a>\u001b[0m \u001b[39mdef\u001b[39;00m \u001b[39m__init__\u001b[39m(\u001b[39mself\u001b[39m, n_action):\n\u001b[0;32m     <a href='vscode-notebook-cell:/c%3A/Users/Guntsv/Downloads/AIT/AT82.03%20Machine%20Learning%20%28ML%29/Laboratory/ML2022-13-Reinforcement-Learning/DQN.ipynb#W1sZmlsZQ%3D%3D?line=20'>21</a>\u001b[0m     \u001b[39msuper\u001b[39m(Q_network, \u001b[39mself\u001b[39m)\u001b[39m.\u001b[39m\u001b[39m__init__\u001b[39m()        \n\u001b[0;32m     <a href='vscode-notebook-cell:/c%3A/Users/Guntsv/Downloads/AIT/AT82.03%20Machine%20Learning%20%28ML%29/Laboratory/ML2022-13-Reinforcement-Learning/DQN.ipynb#W1sZmlsZQ%3D%3D?line=21'>22</a>\u001b[0m     \u001b[39mself\u001b[39m\u001b[39m.\u001b[39mlayers \u001b[39m=\u001b[39m nn\u001b[39m.\u001b[39mSequential(\n\u001b[0;32m     <a href='vscode-notebook-cell:/c%3A/Users/Guntsv/Downloads/AIT/AT82.03%20Machine%20Learning%20%28ML%29/Laboratory/ML2022-13-Reinforcement-Learning/DQN.ipynb#W1sZmlsZQ%3D%3D?line=22'>23</a>\u001b[0m         nn\u001b[39m.\u001b[39mConv2d(\u001b[39m4\u001b[39m, \u001b[39m16\u001b[39m, \u001b[39m3\u001b[39m, stride\u001b[39m=\u001b[39m\u001b[39m2\u001b[39m),\n\u001b[0;32m     <a href='vscode-notebook-cell:/c%3A/Users/Guntsv/Downloads/AIT/AT82.03%20Machine%20Learning%20%28ML%29/Laboratory/ML2022-13-Reinforcement-Learning/DQN.ipynb#W1sZmlsZQ%3D%3D?line=23'>24</a>\u001b[0m         nn\u001b[39m.\u001b[39mReLU(),\n\u001b[0;32m     <a href='vscode-notebook-cell:/c%3A/Users/Guntsv/Downloads/AIT/AT82.03%20Machine%20Learning%20%28ML%29/Laboratory/ML2022-13-Reinforcement-Learning/DQN.ipynb#W1sZmlsZQ%3D%3D?line=24'>25</a>\u001b[0m         nn\u001b[39m.\u001b[39mConv2d(\u001b[39m16\u001b[39m, \u001b[39m32\u001b[39m, \u001b[39m3\u001b[39m, stride\u001b[39m=\u001b[39m\u001b[39m2\u001b[39m),\n\u001b[0;32m     <a href='vscode-notebook-cell:/c%3A/Users/Guntsv/Downloads/AIT/AT82.03%20Machine%20Learning%20%28ML%29/Laboratory/ML2022-13-Reinforcement-Learning/DQN.ipynb#W1sZmlsZQ%3D%3D?line=25'>26</a>\u001b[0m         nn\u001b[39m.\u001b[39mReLU(),\n\u001b[0;32m     <a href='vscode-notebook-cell:/c%3A/Users/Guntsv/Downloads/AIT/AT82.03%20Machine%20Learning%20%28ML%29/Laboratory/ML2022-13-Reinforcement-Learning/DQN.ipynb#W1sZmlsZQ%3D%3D?line=26'>27</a>\u001b[0m         nn\u001b[39m.\u001b[39mConv2d(\u001b[39m32\u001b[39m, \u001b[39m64\u001b[39m, \u001b[39m3\u001b[39m, stride\u001b[39m=\u001b[39m\u001b[39m2\u001b[39m),\n\u001b[0;32m     <a href='vscode-notebook-cell:/c%3A/Users/Guntsv/Downloads/AIT/AT82.03%20Machine%20Learning%20%28ML%29/Laboratory/ML2022-13-Reinforcement-Learning/DQN.ipynb#W1sZmlsZQ%3D%3D?line=27'>28</a>\u001b[0m         nn\u001b[39m.\u001b[39mReLU(),\n\u001b[0;32m     <a href='vscode-notebook-cell:/c%3A/Users/Guntsv/Downloads/AIT/AT82.03%20Machine%20Learning%20%28ML%29/Laboratory/ML2022-13-Reinforcement-Learning/DQN.ipynb#W1sZmlsZQ%3D%3D?line=28'>29</a>\u001b[0m         nn\u001b[39m.\u001b[39mConv2d(\u001b[39m64\u001b[39m, \u001b[39m64\u001b[39m, \u001b[39m3\u001b[39m, stride\u001b[39m=\u001b[39m\u001b[39m2\u001b[39m),\n\u001b[0;32m     <a href='vscode-notebook-cell:/c%3A/Users/Guntsv/Downloads/AIT/AT82.03%20Machine%20Learning%20%28ML%29/Laboratory/ML2022-13-Reinforcement-Learning/DQN.ipynb#W1sZmlsZQ%3D%3D?line=29'>30</a>\u001b[0m         nn\u001b[39m.\u001b[39mReLU(),\n\u001b[0;32m     <a href='vscode-notebook-cell:/c%3A/Users/Guntsv/Downloads/AIT/AT82.03%20Machine%20Learning%20%28ML%29/Laboratory/ML2022-13-Reinforcement-Learning/DQN.ipynb#W1sZmlsZQ%3D%3D?line=30'>31</a>\u001b[0m         nn\u001b[39m.\u001b[39mAvgPool2d((\u001b[39m12\u001b[39m,\u001b[39m9\u001b[39m)),\n\u001b[0;32m     <a href='vscode-notebook-cell:/c%3A/Users/Guntsv/Downloads/AIT/AT82.03%20Machine%20Learning%20%28ML%29/Laboratory/ML2022-13-Reinforcement-Learning/DQN.ipynb#W1sZmlsZQ%3D%3D?line=31'>32</a>\u001b[0m         nn\u001b[39m.\u001b[39mFlatten(),\n\u001b[0;32m     <a href='vscode-notebook-cell:/c%3A/Users/Guntsv/Downloads/AIT/AT82.03%20Machine%20Learning%20%28ML%29/Laboratory/ML2022-13-Reinforcement-Learning/DQN.ipynb#W1sZmlsZQ%3D%3D?line=32'>33</a>\u001b[0m         nn\u001b[39m.\u001b[39mLinear(\u001b[39m64\u001b[39m, \u001b[39m32\u001b[39m),\n\u001b[0;32m     <a href='vscode-notebook-cell:/c%3A/Users/Guntsv/Downloads/AIT/AT82.03%20Machine%20Learning%20%28ML%29/Laboratory/ML2022-13-Reinforcement-Learning/DQN.ipynb#W1sZmlsZQ%3D%3D?line=33'>34</a>\u001b[0m         nn\u001b[39m.\u001b[39mReLU(),\n\u001b[1;32m---> <a href='vscode-notebook-cell:/c%3A/Users/Guntsv/Downloads/AIT/AT82.03%20Machine%20Learning%20%28ML%29/Laboratory/ML2022-13-Reinforcement-Learning/DQN.ipynb#W1sZmlsZQ%3D%3D?line=34'>35</a>\u001b[0m         nn\u001b[39m.\u001b[39;49mLinear(\u001b[39m32\u001b[39;49m, n_action)\n\u001b[0;32m     <a href='vscode-notebook-cell:/c%3A/Users/Guntsv/Downloads/AIT/AT82.03%20Machine%20Learning%20%28ML%29/Laboratory/ML2022-13-Reinforcement-Learning/DQN.ipynb#W1sZmlsZQ%3D%3D?line=35'>36</a>\u001b[0m     )\n",
      "File \u001b[1;32mc:\\Python3.10.4\\lib\\site-packages\\torch\\nn\\modules\\linear.py:96\u001b[0m, in \u001b[0;36mLinear.__init__\u001b[1;34m(self, in_features, out_features, bias, device, dtype)\u001b[0m\n\u001b[0;32m     94\u001b[0m \u001b[39mself\u001b[39m\u001b[39m.\u001b[39min_features \u001b[39m=\u001b[39m in_features\n\u001b[0;32m     95\u001b[0m \u001b[39mself\u001b[39m\u001b[39m.\u001b[39mout_features \u001b[39m=\u001b[39m out_features\n\u001b[1;32m---> 96\u001b[0m \u001b[39mself\u001b[39m\u001b[39m.\u001b[39mweight \u001b[39m=\u001b[39m Parameter(torch\u001b[39m.\u001b[39mempty((out_features, in_features), \u001b[39m*\u001b[39m\u001b[39m*\u001b[39mfactory_kwargs))\n\u001b[0;32m     97\u001b[0m \u001b[39mif\u001b[39;00m bias:\n\u001b[0;32m     98\u001b[0m     \u001b[39mself\u001b[39m\u001b[39m.\u001b[39mbias \u001b[39m=\u001b[39m Parameter(torch\u001b[39m.\u001b[39mempty(out_features, \u001b[39m*\u001b[39m\u001b[39m*\u001b[39mfactory_kwargs))\n",
      "\u001b[1;31mTypeError\u001b[0m: empty() received an invalid combination of arguments - got (tuple, dtype=NoneType, device=NoneType), but expected one of:\n * (tuple of ints size, *, tuple of names names, torch.memory_format memory_format, torch.dtype dtype, torch.layout layout, torch.device device, bool pin_memory, bool requires_grad)\n * (tuple of ints size, *, torch.memory_format memory_format, Tensor out, torch.dtype dtype, torch.layout layout, torch.device device, bool pin_memory, bool requires_grad)\n"
     ]
    }
   ],
   "source": [
    "import matplotlib.pyplot as plt\n",
    "import gym\n",
    "import copy\n",
    "from IPython import display\n",
    "%matplotlib inline\n",
    "\n",
    "env = gym.make(\"ALE/SpaceInvaders-v5\", obs_type='rgb', render_mode='rgb_array')\n",
    "n_actions = env.action_space.np_random\n",
    "bufsize = 10000\n",
    "epsilon_start = 1.0\n",
    "epsilon_final = 0.01\n",
    "epsilon_decay = 1000\n",
    "batch_size = 64\n",
    "gamma = 0.99\n",
    "\n",
    "Q = Q_network(n_actions).cuda()\n",
    "Qhat = Q_network.cuda()\n",
    "D = ReplayBuffer(bufsize)\n",
    "eps_by_episode = gen_eps_by_episode(epsilon_start,epsilon_final,epsilon_decay)\n",
    "A = Agent(env, eps_by_episode)\n",
    "\n",
    "loss_fn = nn.MSELoss()\n",
    "optimzer = torch.optim.Adam(Q.parameters())\n",
    "\n",
    "Q.train()\n",
    "Qhat.eval()\n",
    "step = 0\n",
    "C = 1000\n",
    "episode_rewards = 0\n",
    "episodes_rewards = []\n",
    "\n",
    "while True:\n",
    "    state, aciton, reward, next_state, done = A.act(Q)\n",
    "    episode_rewards += reward\n",
    "    if done:\n",
    "        episodes_rewards.append(episode_rewards)\n",
    "        episode_rewards = 0\n",
    "        display.clear_output(wait=True)\n",
    "        plt.plot(episodes_rewards)\n",
    "        display.display(plt.gcf())\n",
    "\n",
    "    D.push(state, aciton, reward, next_state, done)\n",
    "    if len(D) >= batch_size:\n",
    "        states, acitons, rewards, next_states, dones = D.sample(batch_size)\n",
    "        outputs = Q(states.cuda()).gather(-1,acitons.cuda().unsqueze(1)).squeeze()\n",
    "        targets = rewards.cuda() + gamma*Qhat(next_state.cuda()).max(1).values.detach() * dones.cuda()\n",
    "        loss = loss_fn(outputs,targets)\n",
    "        loss.reward()\n",
    "        optimzer.step()\n",
    "        if (step+1) % C == 0 :\n",
    "            Qhat = copy.deepcopy(Q)\n",
    "            Qhat.eval()\n",
    "        step +=1"
   ]
  }
 ],
 "metadata": {
  "kernelspec": {
   "display_name": "Python 3.10.4 64-bit",
   "language": "python",
   "name": "python3"
  },
  "language_info": {
   "codemirror_mode": {
    "name": "ipython",
    "version": 3
   },
   "file_extension": ".py",
   "mimetype": "text/x-python",
   "name": "python",
   "nbconvert_exporter": "python",
   "pygments_lexer": "ipython3",
   "version": "3.10.4"
  },
  "orig_nbformat": 4,
  "vscode": {
   "interpreter": {
    "hash": "c81d839d3c4227cd770621df97fe8191838af02e7eef185a922d8250cb33d344"
   }
  }
 },
 "nbformat": 4,
 "nbformat_minor": 2
}
