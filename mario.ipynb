{
 "cells": [
  {
   "cell_type": "code",
   "execution_count": 1,
   "metadata": {},
   "outputs": [
    {
     "name": "stderr",
     "output_type": "stream",
     "text": [
      "\n",
      "[notice] A new release of pip available: 22.3 -> 22.3.1\n",
      "[notice] To update, run: python.exe -m pip install --upgrade pip\n"
     ]
    },
    {
     "name": "stdout",
     "output_type": "stream",
     "text": [
      "Requirement already satisfied: gym-super-mario-bros in c:\\python3.10.4\\lib\\site-packages (7.4.0)\n",
      "Requirement already satisfied: nes-py>=8.1.4 in c:\\python3.10.4\\lib\\site-packages (from gym-super-mario-bros) (8.2.1)\n",
      "Requirement already satisfied: numpy>=1.18.5 in c:\\python3.10.4\\lib\\site-packages (from nes-py>=8.1.4->gym-super-mario-bros) (1.23.4)\n",
      "Requirement already satisfied: pyglet<=1.5.21,>=1.4.0 in c:\\python3.10.4\\lib\\site-packages (from nes-py>=8.1.4->gym-super-mario-bros) (1.5.21)\n",
      "Requirement already satisfied: gym>=0.17.2 in c:\\python3.10.4\\lib\\site-packages (from nes-py>=8.1.4->gym-super-mario-bros) (0.26.2)\n",
      "Requirement already satisfied: tqdm>=4.48.2 in c:\\python3.10.4\\lib\\site-packages (from nes-py>=8.1.4->gym-super-mario-bros) (4.64.1)\n",
      "Requirement already satisfied: gym-notices>=0.0.4 in c:\\python3.10.4\\lib\\site-packages (from gym>=0.17.2->nes-py>=8.1.4->gym-super-mario-bros) (0.0.8)\n",
      "Requirement already satisfied: cloudpickle>=1.2.0 in c:\\python3.10.4\\lib\\site-packages (from gym>=0.17.2->nes-py>=8.1.4->gym-super-mario-bros) (2.1.0)\n",
      "Requirement already satisfied: colorama in c:\\users\\guntsv\\appdata\\roaming\\python\\python310\\site-packages (from tqdm>=4.48.2->nes-py>=8.1.4->gym-super-mario-bros) (0.4.4)\n"
     ]
    }
   ],
   "source": [
    "!pip install gym-super-mario-bros"
   ]
  },
  {
   "cell_type": "code",
   "execution_count": 26,
   "metadata": {},
   "outputs": [
    {
     "name": "stdout",
     "output_type": "stream",
     "text": [
      "Collecting gym==0.21.0\n",
      "  Using cached gym-0.21.0-py3-none-any.whl\n",
      "Requirement already satisfied: numpy>=1.18.0 in c:\\python3.10.4\\lib\\site-packages (from gym==0.21.0) (1.23.4)\n",
      "Requirement already satisfied: cloudpickle>=1.2.0 in c:\\python3.10.4\\lib\\site-packages (from gym==0.21.0) (2.1.0)\n",
      "Installing collected packages: gym\n",
      "  Attempting uninstall: gym\n",
      "    Found existing installation: gym 0.26.2\n",
      "    Uninstalling gym-0.26.2:\n",
      "      Successfully uninstalled gym-0.26.2\n",
      "Successfully installed gym-0.21.0\n"
     ]
    },
    {
     "name": "stderr",
     "output_type": "stream",
     "text": [
      "\n",
      "[notice] A new release of pip available: 22.3 -> 22.3.1\n",
      "[notice] To update, run: python.exe -m pip install --upgrade pip\n"
     ]
    }
   ],
   "source": [
    "!pip install -U gym==0.21.0"
   ]
  },
  {
   "cell_type": "code",
   "execution_count": 4,
   "metadata": {},
   "outputs": [
    {
     "data": {
      "text/plain": [
       "device(type='cpu')"
      ]
     },
     "execution_count": 4,
     "metadata": {},
     "output_type": "execute_result"
    }
   ],
   "source": [
    "import math, random\n",
    "\n",
    "import torch\n",
    "import torch.nn as nn\n",
    "import torch.optim as optim\n",
    "import torch.autograd as autograd \n",
    "import torch.nn.functional as F\n",
    "\n",
    "import matplotlib.pyplot as plt\n",
    "\n",
    "import gym\n",
    "import numpy as np\n",
    "\n",
    "from collections import deque\n",
    "from tqdm import trange\n",
    "\n",
    "# Select GPU or CPU as device\n",
    "\n",
    "device = torch.device(\"cuda:0\" if torch.cuda.is_available() else \"cpu\")\n",
    "device"
   ]
  },
  {
   "cell_type": "code",
   "execution_count": 3,
   "metadata": {},
   "outputs": [
    {
     "data": {
      "text/plain": [
       "'0.21.0'"
      ]
     },
     "execution_count": 3,
     "metadata": {},
     "output_type": "execute_result"
    }
   ],
   "source": [
    "gym.__version__"
   ]
  },
  {
   "cell_type": "markdown",
   "metadata": {},
   "source": [
    "### Test it gym_super_mario_bros environment\n",
    "It requires to use gym environment version : 0.21.0"
   ]
  },
  {
   "cell_type": "code",
   "execution_count": 10,
   "metadata": {},
   "outputs": [],
   "source": [
    "from nes_py.wrappers import JoypadSpace\n",
    "import gym_super_mario_bros\n",
    "from gym_super_mario_bros.actions import SIMPLE_MOVEMENT\n",
    "env = gym_super_mario_bros.make('SuperMarioBros-v0')\n",
    "env = JoypadSpace(env, SIMPLE_MOVEMENT)\n",
    "\n",
    "done = True\n",
    "for step in range(1000):\n",
    "    if done:\n",
    "        state = env.reset()\n",
    "    state, reward, done, info = env.step(env.action_space.sample())\n",
    "    env.render()\n",
    "\n",
    "env.close()\n",
    "print('Done')"
   ]
  },
  {
   "cell_type": "markdown",
   "metadata": {},
   "source": [
    "### Create gym_super_mario_bros environment, prepare DQN for training\n",
    "\n",
    "Next we set up a gym environment for the cartpole simulation, create a DQN model with Adam optimization, and create a replay buffer of length 1000."
   ]
  },
  {
   "cell_type": "code",
   "execution_count": null,
   "metadata": {},
   "outputs": [],
   "source": []
  },
  {
   "cell_type": "code",
   "execution_count": 24,
   "metadata": {},
   "outputs": [],
   "source": [
    "# import numpy as np\n",
    "# import random\n",
    "# import torch\n",
    "# import torch.nn as nn\n",
    "\n",
    "\n",
    "# class CNNDQN(nn.Module):\n",
    "#     def __init__(self, input_shape, num_actions):\n",
    "#         super(CNNDQN, self).__init__()\n",
    "#         self._input_shape = input_shape\n",
    "#         self._num_actions = num_actions\n",
    "\n",
    "#         self.features = nn.Sequential(\n",
    "#             nn.Conv2d(input_shape[0], 32, kernel_size=8, stride=4),\n",
    "#             nn.ReLU(),\n",
    "#             nn.Conv2d(32, 64, kernel_size=4, stride=2),\n",
    "#             nn.ReLU(),\n",
    "#             nn.Conv2d(64, 64, kernel_size=3, stride=1),\n",
    "#             nn.ReLU())\n",
    "\n",
    "#         self.fc = nn.Sequential(\n",
    "#             nn.Linear(self.feature_size, 512),\n",
    "#             nn.ReLU(),\n",
    "#             nn.Linear(512, num_actions))\n",
    "\n",
    "#     def forward(self, x):\n",
    "#         x = self.features(x).view(x.size()[0], -1)\n",
    "#         return self.fc(x)\n",
    "\n",
    "#     @property\n",
    "#     def feature_size(self):\n",
    "#         x = self.features(torch.zeros(1, *self._input_shape))\n",
    "#         return x.view(1, -1).size(1)\n",
    "\n",
    "#     def act(self, state, epsilon, device):\n",
    "#         if random.random() > epsilon:\n",
    "#             state = torch.FloatTensor(np.float32(state)).unsqueeze(0).to(device)\n",
    "#             q_value = self.forward(state)\n",
    "#             action = q_value.max(1)[1].item()\n",
    "#         else:\n",
    "#             action = random.randrange(self._num_actions)\n",
    "#         return action"
   ]
  },
  {
   "cell_type": "code",
   "execution_count": null,
   "metadata": {},
   "outputs": [],
   "source": []
  }
 ],
 "metadata": {
  "kernelspec": {
   "display_name": "Python 3.10.4 64-bit",
   "language": "python",
   "name": "python3"
  },
  "language_info": {
   "codemirror_mode": {
    "name": "ipython",
    "version": 3
   },
   "file_extension": ".py",
   "mimetype": "text/x-python",
   "name": "python",
   "nbconvert_exporter": "python",
   "pygments_lexer": "ipython3",
   "version": "3.10.4"
  },
  "orig_nbformat": 4,
  "vscode": {
   "interpreter": {
    "hash": "c81d839d3c4227cd770621df97fe8191838af02e7eef185a922d8250cb33d344"
   }
  }
 },
 "nbformat": 4,
 "nbformat_minor": 2
}
