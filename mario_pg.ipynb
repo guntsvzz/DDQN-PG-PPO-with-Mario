{
 "cells": [
  {
   "cell_type": "markdown",
   "metadata": {},
   "source": [
    "# Mario with Policy Gradient"
   ]
  },
  {
   "cell_type": "code",
   "execution_count": 1,
   "metadata": {},
   "outputs": [
    {
     "data": {
      "text/plain": [
       "'0.26.0'"
      ]
     },
     "execution_count": 1,
     "metadata": {},
     "output_type": "execute_result"
    }
   ],
   "source": [
    "import gym\n",
    "import math\n",
    "import random\n",
    "import numpy as np\n",
    "import matplotlib.pyplot as plt\n",
    "from collections import namedtuple, deque\n",
    "from tqdm import trange\n",
    "from itertools import count\n",
    "from PIL import Image\n",
    "\n",
    "import torch\n",
    "import torch.nn as nn\n",
    "import torch.optim as optim\n",
    "import torch.nn.functional as F\n",
    "import torchvision.transforms as T\n",
    "import random, datetime, os, copy\n",
    "\n",
    "# Gym is an OpenAI toolkit for RL\n",
    "import gym\n",
    "from gym.spaces import Box\n",
    "from gym.wrappers import FrameStack\n",
    "\n",
    "from IPython import display as ipythondisplay\n",
    "from pyvirtualdisplay import Display\n",
    "\n",
    "gym.__version__"
   ]
  },
  {
   "cell_type": "code",
   "execution_count": 2,
   "metadata": {},
   "outputs": [
    {
     "name": "stderr",
     "output_type": "stream",
     "text": [
      "c:\\Python3.10.4\\lib\\site-packages\\gym\\envs\\registration.py:555: UserWarning: \u001b[33mWARN: The environment SuperMarioBros-1-1-v1 is out of date. You should consider upgrading to version `v3`.\u001b[0m\n",
      "  logger.warn(\n",
      "c:\\Python3.10.4\\lib\\site-packages\\gym\\envs\\registration.py:627: UserWarning: \u001b[33mWARN: The environment creator metadata doesn't include `render_modes`, contains: ['render.modes', 'video.frames_per_second']\u001b[0m\n",
      "  logger.warn(\n"
     ]
    },
    {
     "name": "stdout",
     "output_type": "stream",
     "text": [
      "Action : 7\n"
     ]
    }
   ],
   "source": [
    "# NES Emulator for OpenAI Gym\n",
    "from nes_py.wrappers import JoypadSpace\n",
    "# Super Mario environment for OpenAI Gym\n",
    "import gym_super_mario_bros\n",
    "from gym_super_mario_bros.actions import SIMPLE_MOVEMENT,COMPLEX_MOVEMENT \n",
    "# env = gym_super_mario_bros.make('SuperMarioBros-v0')\n",
    "env = gym_super_mario_bros.make(\"SuperMarioBros-1-1-v1\", render_mode='rgb_array', apply_api_compatibility=True)\n",
    "env = JoypadSpace(env, SIMPLE_MOVEMENT)\n",
    "n_actions = env.action_space.n\n",
    "print(\"Action :\",n_actions)"
   ]
  },
  {
   "cell_type": "code",
   "execution_count": 3,
   "metadata": {},
   "outputs": [
    {
     "data": {
      "text/plain": [
       "((240, 256, 3), {})"
      ]
     },
     "execution_count": 3,
     "metadata": {},
     "output_type": "execute_result"
    }
   ],
   "source": [
    "obs,info = env.reset()\n",
    "obs.shape, info #3 dimension"
   ]
  },
  {
   "cell_type": "markdown",
   "metadata": {},
   "source": [
    "## Test Gym is worked or not"
   ]
  },
  {
   "cell_type": "code",
   "execution_count": 4,
   "metadata": {},
   "outputs": [
    {
     "name": "stderr",
     "output_type": "stream",
     "text": [
      "c:\\Python3.10.4\\lib\\site-packages\\gym\\utils\\passive_env_checker.py:272: UserWarning: \u001b[33mWARN: No render modes was declared in the environment (env.metadata['render_modes'] is None or not defined), you may have trouble when calling `.render()`.\u001b[0m\n",
      "  logger.warn(\n"
     ]
    },
    {
     "name": "stdout",
     "output_type": "stream",
     "text": [
      "Done\n"
     ]
    }
   ],
   "source": [
    "env.reset()\n",
    "done = True\n",
    "for step in range(500):\n",
    "    if done:\n",
    "        next_state = env.reset()\n",
    "    next_state, reward, done,_, info = env.step(env.action_space.sample())\n",
    "    env.render()\n",
    "    # img=env.render(mode=\"rgb_array\")\n",
    "    \n",
    "env.close()\n",
    "print('Done')"
   ]
  },
  {
   "cell_type": "markdown",
   "metadata": {},
   "source": [
    "## Grey Scale"
   ]
  },
  {
   "cell_type": "code",
   "execution_count": 5,
   "metadata": {},
   "outputs": [],
   "source": [
    "class SkipFrame(gym.Wrapper):\n",
    "    def __init__(self, env, skip):\n",
    "        \"\"\"Return only every `skip`-th frame\"\"\"\n",
    "        super().__init__(env)\n",
    "        self._skip = skip\n",
    "\n",
    "    def step(self, action):\n",
    "        \"\"\"Repeat action, and sum reward\"\"\"\n",
    "        total_reward = 0.0\n",
    "        for i in range(self._skip):\n",
    "            # Accumulate reward and repeat the same action\n",
    "            obs, reward, done, trunk, info = self.env.step(action)\n",
    "            total_reward += reward\n",
    "            if done:\n",
    "                break\n",
    "        return obs, total_reward, done, trunk, info\n",
    "\n",
    "\n",
    "class GrayScaleObservation(gym.ObservationWrapper):\n",
    "    def __init__(self, env):\n",
    "        super().__init__(env)\n",
    "        obs_shape = self.observation_space.shape[:2]\n",
    "        self.observation_space = Box(low=0, high=255, shape=obs_shape, dtype=np.uint8)\n",
    "\n",
    "    def permute_orientation(self, observation):\n",
    "        # permute [H, W, C] array to [C, H, W] tensor\n",
    "        observation = np.transpose(observation, (2, 0, 1))\n",
    "        observation = torch.tensor(observation.copy(), dtype=torch.float)\n",
    "        return observation\n",
    "\n",
    "    def observation(self, observation):\n",
    "        observation = self.permute_orientation(observation)\n",
    "        transform = T.Grayscale()\n",
    "        observation = transform(observation)\n",
    "        return observation\n",
    "\n",
    "class ResizeObservation(gym.ObservationWrapper):\n",
    "    def __init__(self, env, shape):\n",
    "        super().__init__(env)\n",
    "        if isinstance(shape, int):\n",
    "            self.shape = (shape, shape)\n",
    "        else:\n",
    "            self.shape = tuple(shape)\n",
    "\n",
    "        obs_shape = self.shape + self.observation_space.shape[2:]\n",
    "        self.observation_space = Box(low=0, high=255, shape=obs_shape, dtype=np.uint8)\n",
    "\n",
    "    def observation(self, observation):\n",
    "        transforms = T.Compose(\n",
    "            [T.Resize(self.shape), T.Normalize(0, 255)]\n",
    "        )\n",
    "        observation = transforms(observation).squeeze(0)\n",
    "        return observation"
   ]
  },
  {
   "cell_type": "code",
   "execution_count": 6,
   "metadata": {},
   "outputs": [
    {
     "name": "stdout",
     "output_type": "stream",
     "text": [
      "Action : 7\n"
     ]
    },
    {
     "data": {
      "text/plain": [
       "((240, 256, 3), {})"
      ]
     },
     "execution_count": 6,
     "metadata": {},
     "output_type": "execute_result"
    }
   ],
   "source": [
    "# NES Emulator for OpenAI Gym\n",
    "from nes_py.wrappers import JoypadSpace\n",
    "# Super Mario environment for OpenAI Gym\n",
    "import gym_super_mario_bros\n",
    "from gym_super_mario_bros.actions import SIMPLE_MOVEMENT,COMPLEX_MOVEMENT \n",
    "# env = gym_super_mario_bros.make('SuperMarioBros-v0')\n",
    "env = gym_super_mario_bros.make(\"SuperMarioBros-1-1-v1\", render_mode='rgb_array', apply_api_compatibility=True)\n",
    "env = JoypadSpace(env, SIMPLE_MOVEMENT)\n",
    "n_actions = env.action_space.n\n",
    "print(\"Action :\",n_actions)\n",
    "\n",
    "obs,info = env.reset()\n",
    "obs.shape, info #3 dimension"
   ]
  },
  {
   "cell_type": "code",
   "execution_count": 7,
   "metadata": {},
   "outputs": [
    {
     "data": {
      "text/plain": [
       "((4, 84, 84), {})"
      ]
     },
     "execution_count": 7,
     "metadata": {},
     "output_type": "execute_result"
    }
   ],
   "source": [
    "# env = gym_super_mario_bros.make('SuperMarioBros-1-1-v0')\n",
    "# env = JoypadSpace(env, [[\"right\"], [\"right\", \"A\"]])\n",
    "env = FrameStack(ResizeObservation(GrayScaleObservation(SkipFrame(env, skip=4)), shape=84), num_stack=4)\n",
    "# env.seed(42)\n",
    "# env.action_space.seed(42)\n",
    "torch.manual_seed(42)\n",
    "torch.random.manual_seed(42)\n",
    "np.random.seed(42)\n",
    "\n",
    "obs,info = env.reset()\n",
    "obs.shape, info #3 dimension"
   ]
  },
  {
   "cell_type": "code",
   "execution_count": 8,
   "metadata": {},
   "outputs": [
    {
     "data": {
      "text/plain": [
       "device(type='cpu')"
      ]
     },
     "execution_count": 8,
     "metadata": {},
     "output_type": "execute_result"
    }
   ],
   "source": [
    "import torch\n",
    "device = torch.device(\"cuda:0\" if (torch.cuda.is_available()) else \"cpu\")\n",
    "device"
   ]
  },
  {
   "cell_type": "markdown",
   "metadata": {},
   "source": [
    "## Neural Network"
   ]
  },
  {
   "cell_type": "code",
   "execution_count": 9,
   "metadata": {},
   "outputs": [],
   "source": [
    "class MarioSolver:\n",
    "    def __init__(self, learning_rate):\n",
    "        self.model = nn.Sequential(\n",
    "            nn.Conv2d(in_channels=4, out_channels=32, kernel_size=8, stride=4),\n",
    "            nn.ReLU(),\n",
    "            nn.Conv2d(in_channels=32, out_channels=64, kernel_size=4, stride=2),\n",
    "            nn.ReLU(),\n",
    "            nn.Conv2d(in_channels=64, out_channels=64, kernel_size=3, stride=1),\n",
    "            nn.ReLU(),\n",
    "            nn.Flatten(),\n",
    "            nn.Linear(3136, 512),\n",
    "            nn.ReLU(),\n",
    "            nn.Linear(512, env.action_space.n),\n",
    "            nn.Softmax(dim=-1)\n",
    "        ).to(device) #.cuda()\n",
    "        self.optimizer = torch.optim.Adam(self.model.parameters(), lr=learning_rate, eps=1e-4)\n",
    "        self.reset()\n",
    "\n",
    "    def forward(self, x):\n",
    "        return self.model(x)\n",
    "\n",
    "    def reset(self):\n",
    "        self.episode_actions = torch.tensor([], requires_grad=True).to(device) #.cuda()\n",
    "        self.episode_rewards = []\n",
    "\n",
    "    def save_checkpoint(self, directory, episode):\n",
    "        if not os.path.exists(directory):\n",
    "            os.makedirs(directory)\n",
    "        filename = os.path.join(directory, 'checkpoint_{}.pth'.format(episode))\n",
    "        torch.save(self.model.state_dict(), f=filename)\n",
    "        print('Checkpoint saved to \\'{}\\''.format(filename))\n",
    "\n",
    "    def load_checkpoint(self, directory, filename):\n",
    "        self.model.load_state_dict(torch.load(os.path.join(directory, filename)))\n",
    "        print('Resuming training from checkpoint \\'{}\\'.'.format(filename))\n",
    "        return int(filename[11:-4])\n",
    "\n",
    "    def backward(self):\n",
    "        future_reward = 0\n",
    "        rewards = []\n",
    "        for r in self.episode_rewards[::-1]:\n",
    "            future_reward = r + gamma * future_reward\n",
    "            rewards.append(future_reward)\n",
    "        rewards = torch.tensor(rewards[::-1], dtype=torch.float32).to(device) #.cuda()\n",
    "        rewards = (rewards - rewards.mean()) / (rewards.std() + np.finfo(np.float32).eps)\n",
    "        loss = torch.sum(torch.mul(self.episode_actions, rewards).mul(-1))\n",
    "        self.optimizer.zero_grad()\n",
    "        loss.backward()\n",
    "        self.optimizer.step()\n",
    "        self.reset()"
   ]
  },
  {
   "cell_type": "markdown",
   "metadata": {},
   "source": [
    "## Model"
   ]
  },
  {
   "cell_type": "code",
   "execution_count": 14,
   "metadata": {},
   "outputs": [
    {
     "name": "stdout",
     "output_type": "stream",
     "text": [
      "Resuming training from checkpoint 'checkpoint_1050.pth'.\n"
     ]
    }
   ],
   "source": [
    "batch_size = 10\n",
    "gamma = 0.95\n",
    "load_filename = None\n",
    "load_filename = \"checkpoint_1050.pth\"\n",
    "save_directory = \"./mario_pg\"\n",
    "batch_rewards = []\n",
    "episode = 0\n",
    "\n",
    "from torch.distributions import Categorical\n",
    "\n",
    "model = MarioSolver(learning_rate=0.00025)\n",
    "if load_filename is not None:\n",
    "    episode = model.load_checkpoint(save_directory, load_filename)\n",
    "all_episode_rewards = []\n",
    "all_mean_rewards = []"
   ]
  },
  {
   "cell_type": "markdown",
   "metadata": {},
   "source": [
    "## Train"
   ]
  },
  {
   "cell_type": "code",
   "execution_count": 15,
   "metadata": {},
   "outputs": [
    {
     "name": "stderr",
     "output_type": "stream",
     "text": [
      "c:\\Python3.10.4\\lib\\site-packages\\gym\\utils\\passive_env_checker.py:272: UserWarning: \u001b[33mWARN: No render modes was declared in the environment (env.metadata['render_modes'] is None or not defined), you may have trouble when calling `.render()`.\u001b[0m\n",
      "  logger.warn(\n"
     ]
    },
    {
     "name": "stdout",
     "output_type": "stream",
     "text": [
      "Batch: 106, average reward: 306.5\n",
      "Batch: 107, average reward: 598.8\n",
      "Batch: 108, average reward: 928.7\n",
      "Batch: 109, average reward: 662.5\n",
      "Batch: 110, average reward: 963.6\n",
      "Batch: 111, average reward: 919.1\n",
      "Batch: 112, average reward: 856.2\n",
      "Batch: 113, average reward: 836.3\n",
      "Batch: 114, average reward: 834.8\n",
      "Batch: 115, average reward: 700.4\n",
      "Batch: 116, average reward: 800.7\n",
      "Batch: 117, average reward: 717.5\n",
      "Batch: 118, average reward: 894.4\n",
      "Batch: 119, average reward: 652.8\n",
      "Batch: 120, average reward: 861.2\n",
      "Batch: 121, average reward: 809.4\n",
      "Batch: 122, average reward: 830.3\n",
      "Batch: 123, average reward: 717.3\n",
      "Batch: 124, average reward: 1007.6\n",
      "Batch: 125, average reward: 930.3\n",
      "Batch: 126, average reward: 988.7\n",
      "Batch: 127, average reward: 622.9\n",
      "Batch: 128, average reward: 610.5\n",
      "Batch: 129, average reward: 529.1\n",
      "Batch: 130, average reward: 838.8\n",
      "Batch: 131, average reward: 786.7\n",
      "Batch: 132, average reward: 896.4\n",
      "Batch: 133, average reward: 1025.0\n",
      "Batch: 134, average reward: 748.8\n",
      "Batch: 135, average reward: 1067.9\n",
      "Batch: 136, average reward: 860.2\n",
      "Batch: 137, average reward: 651.7\n",
      "Batch: 138, average reward: 754.4\n",
      "Batch: 139, average reward: 955.1\n",
      "Batch: 140, average reward: 983.6\n",
      "Batch: 141, average reward: 510.3\n",
      "Batch: 142, average reward: 864.8\n",
      "Batch: 143, average reward: 339.9\n",
      "Batch: 144, average reward: 667.7\n",
      "Batch: 145, average reward: 793.3\n",
      "Batch: 146, average reward: 705.0\n",
      "Batch: 147, average reward: 830.8\n",
      "Batch: 148, average reward: 828.2\n",
      "Batch: 149, average reward: 796.2\n",
      "Batch: 150, average reward: 694.7\n",
      "Checkpoint saved to './mario_pg\\checkpoint_1500.pth'\n",
      "Batch: 151, average reward: 673.8\n",
      "Batch: 152, average reward: 554.1\n",
      "Batch: 153, average reward: 759.7\n",
      "Batch: 154, average reward: 1081.4\n",
      "Batch: 155, average reward: 786.9\n",
      "Batch: 156, average reward: 757.6\n",
      "Batch: 157, average reward: 757.4\n",
      "Batch: 158, average reward: 938.7\n",
      "Batch: 159, average reward: 983.0\n",
      "Batch: 160, average reward: 1052.6\n",
      "Batch: 161, average reward: 798.9\n",
      "Batch: 162, average reward: 729.9\n",
      "Batch: 163, average reward: 831.1\n",
      "Batch: 164, average reward: 714.1\n",
      "Batch: 165, average reward: 985.3\n",
      "Batch: 166, average reward: 826.4\n",
      "Batch: 167, average reward: 752.9\n",
      "Batch: 168, average reward: 681.9\n",
      "Batch: 169, average reward: 846.6\n",
      "Batch: 170, average reward: 934.8\n",
      "Batch: 171, average reward: 826.5\n",
      "Batch: 172, average reward: 828.2\n",
      "Batch: 173, average reward: 761.7\n",
      "Batch: 174, average reward: 590.1\n",
      "Batch: 175, average reward: 882.9\n",
      "Batch: 176, average reward: 836.6\n",
      "Batch: 177, average reward: 799.8\n",
      "Batch: 178, average reward: 889.2\n",
      "Batch: 179, average reward: 731.9\n",
      "Batch: 180, average reward: 703.2\n",
      "Batch: 181, average reward: 831.5\n",
      "Batch: 182, average reward: 980.8\n",
      "Batch: 183, average reward: 858.6\n",
      "Batch: 184, average reward: 826.0\n",
      "Batch: 185, average reward: 979.8\n",
      "Batch: 186, average reward: 853.2\n",
      "Batch: 187, average reward: 617.4\n",
      "Batch: 188, average reward: 609.2\n",
      "Batch: 189, average reward: 781.0\n",
      "Batch: 190, average reward: 746.6\n",
      "Batch: 191, average reward: 704.9\n",
      "Batch: 192, average reward: 813.7\n",
      "Batch: 193, average reward: 721.8\n",
      "Batch: 194, average reward: 652.5\n",
      "Batch: 195, average reward: 930.1\n",
      "Batch: 196, average reward: 910.0\n",
      "Batch: 197, average reward: 720.2\n",
      "Batch: 198, average reward: 1059.5\n",
      "Batch: 199, average reward: 935.8\n",
      "Batch: 200, average reward: 604.8\n",
      "Checkpoint saved to './mario_pg\\checkpoint_2000.pth'\n",
      "Batch: 201, average reward: 910.2\n",
      "Batch: 202, average reward: 664.6\n",
      "Batch: 203, average reward: 918.7\n",
      "Batch: 204, average reward: 1031.5\n",
      "Batch: 205, average reward: 785.0\n",
      "Batch: 206, average reward: 1024.2\n",
      "Batch: 207, average reward: 993.3\n",
      "Batch: 208, average reward: 771.1\n"
     ]
    }
   ],
   "source": [
    "while True:\n",
    "    observation,info  = env.reset()\n",
    "    done = False\n",
    "    while not done:\n",
    "        env.render()\n",
    "        # observation = torch.tensor(observation.__array__()).cuda().unsqueeze(0)\n",
    "        observation = torch.tensor(observation.__array__()).unsqueeze(0).to(device)\n",
    "        distribution = Categorical(model.forward(observation))\n",
    "        action = distribution.sample()\n",
    "        observation, reward, done, _, info = env.step(action.item())\n",
    "        model.episode_actions = torch.cat([model.episode_actions, distribution.log_prob(action).reshape(1)])\n",
    "        model.episode_rewards.append(reward)\n",
    "        if done:\n",
    "            all_episode_rewards.append(np.sum(model.episode_rewards))\n",
    "            batch_rewards.append(np.sum(model.episode_rewards))\n",
    "            model.backward()\n",
    "            episode += 1\n",
    "            if episode % batch_size == 0:\n",
    "                print('Batch: {}, average reward: {}'.format(episode // batch_size, np.array(batch_rewards).mean()))\n",
    "                batch_rewards = []\n",
    "                all_mean_rewards.append(np.mean(all_episode_rewards[-batch_size:]))\n",
    "                plt.plot(all_mean_rewards)\n",
    "                if episode % 500 == 0:\n",
    "                    plt.savefig(\"{}/mean_reward_{}.png\".format(save_directory, episode))\n",
    "                plt.clf()\n",
    "            if episode % 500 == 0 and save_directory is not None:\n",
    "                model.save_checkpoint(save_directory, episode)"
   ]
  }
 ],
 "metadata": {
  "kernelspec": {
   "display_name": "Python 3.10.4 64-bit",
   "language": "python",
   "name": "python3"
  },
  "language_info": {
   "codemirror_mode": {
    "name": "ipython",
    "version": 3
   },
   "file_extension": ".py",
   "mimetype": "text/x-python",
   "name": "python",
   "nbconvert_exporter": "python",
   "pygments_lexer": "ipython3",
   "version": "3.10.4"
  },
  "orig_nbformat": 4,
  "vscode": {
   "interpreter": {
    "hash": "c81d839d3c4227cd770621df97fe8191838af02e7eef185a922d8250cb33d344"
   }
  }
 },
 "nbformat": 4,
 "nbformat_minor": 2
}
