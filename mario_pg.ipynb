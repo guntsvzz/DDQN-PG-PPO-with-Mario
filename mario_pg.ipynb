{
 "cells": [
  {
   "cell_type": "markdown",
   "metadata": {},
   "source": [
    "# Mario with Policy Gradient"
   ]
  },
  {
   "cell_type": "code",
   "execution_count": 1,
   "metadata": {},
   "outputs": [
    {
     "data": {
      "text/plain": [
       "'0.26.0'"
      ]
     },
     "execution_count": 1,
     "metadata": {},
     "output_type": "execute_result"
    }
   ],
   "source": [
    "import gym\n",
    "import math\n",
    "import random\n",
    "import numpy as np\n",
    "import matplotlib.pyplot as plt\n",
    "from collections import namedtuple, deque\n",
    "from tqdm import trange\n",
    "from itertools import count\n",
    "from PIL import Image\n",
    "\n",
    "import torch\n",
    "import torch.nn as nn\n",
    "import torch.optim as optim\n",
    "import torch.nn.functional as F\n",
    "import torchvision.transforms as T\n",
    "import random, datetime, os, copy\n",
    "\n",
    "# Gym is an OpenAI toolkit for RL\n",
    "import gym\n",
    "from gym.spaces import Box\n",
    "from gym.wrappers import FrameStack\n",
    "\n",
    "from IPython import display as ipythondisplay\n",
    "from pyvirtualdisplay import Display\n",
    "\n",
    "gym.__version__"
   ]
  },
  {
   "cell_type": "code",
   "execution_count": 2,
   "metadata": {},
   "outputs": [
    {
     "name": "stderr",
     "output_type": "stream",
     "text": [
      "c:\\Python3.10.4\\lib\\site-packages\\gym\\envs\\registration.py:555: UserWarning: \u001b[33mWARN: The environment SuperMarioBros-1-1-v1 is out of date. You should consider upgrading to version `v3`.\u001b[0m\n",
      "  logger.warn(\n",
      "c:\\Python3.10.4\\lib\\site-packages\\gym\\envs\\registration.py:627: UserWarning: \u001b[33mWARN: The environment creator metadata doesn't include `render_modes`, contains: ['render.modes', 'video.frames_per_second']\u001b[0m\n",
      "  logger.warn(\n"
     ]
    },
    {
     "name": "stdout",
     "output_type": "stream",
     "text": [
      "Action : 7\n"
     ]
    }
   ],
   "source": [
    "# NES Emulator for OpenAI Gym\n",
    "from nes_py.wrappers import JoypadSpace\n",
    "# Super Mario environment for OpenAI Gym\n",
    "import gym_super_mario_bros\n",
    "from gym_super_mario_bros.actions import SIMPLE_MOVEMENT,COMPLEX_MOVEMENT \n",
    "# env = gym_super_mario_bros.make('SuperMarioBros-v0')\n",
    "env = gym_super_mario_bros.make(\"SuperMarioBros-1-1-v1\", render_mode='rgb_array', apply_api_compatibility=True)\n",
    "env = JoypadSpace(env, SIMPLE_MOVEMENT)\n",
    "n_actions = env.action_space.n\n",
    "print(\"Action :\",n_actions)"
   ]
  },
  {
   "cell_type": "code",
   "execution_count": 3,
   "metadata": {},
   "outputs": [
    {
     "data": {
      "text/plain": [
       "((240, 256, 3), {})"
      ]
     },
     "execution_count": 3,
     "metadata": {},
     "output_type": "execute_result"
    }
   ],
   "source": [
    "obs,info = env.reset()\n",
    "obs.shape, info #3 dimension"
   ]
  },
  {
   "cell_type": "markdown",
   "metadata": {},
   "source": [
    "## Test Gym is worked or not"
   ]
  },
  {
   "cell_type": "code",
   "execution_count": 4,
   "metadata": {},
   "outputs": [
    {
     "name": "stderr",
     "output_type": "stream",
     "text": [
      "c:\\Python3.10.4\\lib\\site-packages\\gym\\utils\\passive_env_checker.py:272: UserWarning: \u001b[33mWARN: No render modes was declared in the environment (env.metadata['render_modes'] is None or not defined), you may have trouble when calling `.render()`.\u001b[0m\n",
      "  logger.warn(\n"
     ]
    },
    {
     "name": "stdout",
     "output_type": "stream",
     "text": [
      "Done\n"
     ]
    }
   ],
   "source": [
    "env.reset()\n",
    "done = True\n",
    "for step in range(500):\n",
    "    if done:\n",
    "        next_state = env.reset()\n",
    "    next_state, reward, done,_, info = env.step(env.action_space.sample())\n",
    "    env.render()\n",
    "    # img=env.render(mode=\"rgb_array\")\n",
    "    \n",
    "env.close()\n",
    "print('Done')"
   ]
  },
  {
   "cell_type": "markdown",
   "metadata": {},
   "source": [
    "## Grey Scale"
   ]
  },
  {
   "cell_type": "code",
   "execution_count": 5,
   "metadata": {},
   "outputs": [],
   "source": [
    "class SkipFrame(gym.Wrapper):\n",
    "    def __init__(self, env, skip):\n",
    "        \"\"\"Return only every `skip`-th frame\"\"\"\n",
    "        super().__init__(env)\n",
    "        self._skip = skip\n",
    "\n",
    "    def step(self, action):\n",
    "        \"\"\"Repeat action, and sum reward\"\"\"\n",
    "        total_reward = 0.0\n",
    "        for i in range(self._skip):\n",
    "            # Accumulate reward and repeat the same action\n",
    "            obs, reward, done, trunk, info = self.env.step(action)\n",
    "            total_reward += reward\n",
    "            if done:\n",
    "                break\n",
    "        return obs, total_reward, done, trunk, info\n",
    "\n",
    "\n",
    "class GrayScaleObservation(gym.ObservationWrapper):\n",
    "    def __init__(self, env):\n",
    "        super().__init__(env)\n",
    "        obs_shape = self.observation_space.shape[:2]\n",
    "        self.observation_space = Box(low=0, high=255, shape=obs_shape, dtype=np.uint8)\n",
    "\n",
    "    def permute_orientation(self, observation):\n",
    "        # permute [H, W, C] array to [C, H, W] tensor\n",
    "        observation = np.transpose(observation, (2, 0, 1))\n",
    "        observation = torch.tensor(observation.copy(), dtype=torch.float)\n",
    "        return observation\n",
    "\n",
    "    def observation(self, observation):\n",
    "        observation = self.permute_orientation(observation)\n",
    "        transform = T.Grayscale()\n",
    "        observation = transform(observation)\n",
    "        return observation\n",
    "\n",
    "class ResizeObservation(gym.ObservationWrapper):\n",
    "    def __init__(self, env, shape):\n",
    "        super().__init__(env)\n",
    "        if isinstance(shape, int):\n",
    "            self.shape = (shape, shape)\n",
    "        else:\n",
    "            self.shape = tuple(shape)\n",
    "\n",
    "        obs_shape = self.shape + self.observation_space.shape[2:]\n",
    "        self.observation_space = Box(low=0, high=255, shape=obs_shape, dtype=np.uint8)\n",
    "\n",
    "    def observation(self, observation):\n",
    "        transforms = T.Compose(\n",
    "            [T.Resize(self.shape), T.Normalize(0, 255)]\n",
    "        )\n",
    "        observation = transforms(observation).squeeze(0)\n",
    "        return observation"
   ]
  },
  {
   "cell_type": "code",
   "execution_count": 6,
   "metadata": {},
   "outputs": [
    {
     "name": "stdout",
     "output_type": "stream",
     "text": [
      "Action : 7\n"
     ]
    },
    {
     "data": {
      "text/plain": [
       "((240, 256, 3), {})"
      ]
     },
     "execution_count": 6,
     "metadata": {},
     "output_type": "execute_result"
    }
   ],
   "source": [
    "# NES Emulator for OpenAI Gym\n",
    "from nes_py.wrappers import JoypadSpace\n",
    "# Super Mario environment for OpenAI Gym\n",
    "import gym_super_mario_bros\n",
    "from gym_super_mario_bros.actions import SIMPLE_MOVEMENT,COMPLEX_MOVEMENT \n",
    "# env = gym_super_mario_bros.make('SuperMarioBros-v0')\n",
    "env = gym_super_mario_bros.make(\"SuperMarioBros-1-1-v1\", render_mode='rgb_array', apply_api_compatibility=True)\n",
    "env = JoypadSpace(env, SIMPLE_MOVEMENT)\n",
    "n_actions = env.action_space.n\n",
    "print(\"Action :\",n_actions)\n",
    "\n",
    "obs,info = env.reset()\n",
    "obs.shape, info #3 dimension"
   ]
  },
  {
   "cell_type": "code",
   "execution_count": 7,
   "metadata": {},
   "outputs": [
    {
     "data": {
      "text/plain": [
       "((4, 84, 84), {})"
      ]
     },
     "execution_count": 7,
     "metadata": {},
     "output_type": "execute_result"
    }
   ],
   "source": [
    "# env = gym_super_mario_bros.make('SuperMarioBros-1-1-v0')\n",
    "# env = JoypadSpace(env, [[\"right\"], [\"right\", \"A\"]])\n",
    "env = FrameStack(ResizeObservation(GrayScaleObservation(SkipFrame(env, skip=4)), shape=84), num_stack=4)\n",
    "# env.seed(42)\n",
    "# env.action_space.seed(42)\n",
    "torch.manual_seed(42)\n",
    "torch.random.manual_seed(42)\n",
    "np.random.seed(42)\n",
    "\n",
    "obs,info = env.reset()\n",
    "obs.shape, info #3 dimension"
   ]
  },
  {
   "cell_type": "code",
   "execution_count": 8,
   "metadata": {},
   "outputs": [
    {
     "data": {
      "text/plain": [
       "device(type='cpu')"
      ]
     },
     "execution_count": 8,
     "metadata": {},
     "output_type": "execute_result"
    }
   ],
   "source": [
    "import torch\n",
    "device = torch.device(\"cuda:0\" if (torch.cuda.is_available()) else \"cpu\")\n",
    "device"
   ]
  },
  {
   "cell_type": "markdown",
   "metadata": {},
   "source": [
    "## Neural Network"
   ]
  },
  {
   "cell_type": "code",
   "execution_count": 9,
   "metadata": {},
   "outputs": [],
   "source": [
    "class MarioSolver:\n",
    "    def __init__(self, learning_rate):\n",
    "        self.model = nn.Sequential(\n",
    "            nn.Conv2d(in_channels=4, out_channels=32, kernel_size=8, stride=4),\n",
    "            nn.ReLU(),\n",
    "            nn.Conv2d(in_channels=32, out_channels=64, kernel_size=4, stride=2),\n",
    "            nn.ReLU(),\n",
    "            nn.Conv2d(in_channels=64, out_channels=64, kernel_size=3, stride=1),\n",
    "            nn.ReLU(),\n",
    "            nn.Flatten(),\n",
    "            nn.Linear(3136, 512),\n",
    "            nn.ReLU(),\n",
    "            nn.Linear(512, env.action_space.n),\n",
    "            nn.Softmax(dim=-1)\n",
    "        ).to(device) #.cuda()\n",
    "        self.optimizer = torch.optim.Adam(self.model.parameters(), lr=learning_rate, eps=1e-4)\n",
    "        self.reset()\n",
    "\n",
    "    def forward(self, x):\n",
    "        return self.model(x)\n",
    "\n",
    "    def reset(self):\n",
    "        self.episode_actions = torch.tensor([], requires_grad=True).to(device) #.cuda()\n",
    "        self.episode_rewards = []\n",
    "\n",
    "    def save_checkpoint(self, directory, episode):\n",
    "        if not os.path.exists(directory):\n",
    "            os.makedirs(directory)\n",
    "        filename = os.path.join(directory, 'checkpoint_{}.pth'.format(episode))\n",
    "        torch.save(self.model.state_dict(), f=filename)\n",
    "        print('Checkpoint saved to \\'{}\\''.format(filename))\n",
    "\n",
    "    def load_checkpoint(self, directory, filename):\n",
    "        self.model.load_state_dict(torch.load(os.path.join(directory, filename)))\n",
    "        print('Resuming training from checkpoint \\'{}\\'.'.format(filename))\n",
    "        return int(filename[11:-4])\n",
    "\n",
    "    def backward(self):\n",
    "        future_reward = 0\n",
    "        rewards = []\n",
    "        for r in self.episode_rewards[::-1]:\n",
    "            future_reward = r + gamma * future_reward\n",
    "            rewards.append(future_reward)\n",
    "        rewards = torch.tensor(rewards[::-1], dtype=torch.float32).to(device) #.cuda()\n",
    "        rewards = (rewards - rewards.mean()) / (rewards.std() + np.finfo(np.float32).eps)\n",
    "        loss = torch.sum(torch.mul(self.episode_actions, rewards).mul(-1))\n",
    "        self.optimizer.zero_grad()\n",
    "        loss.backward()\n",
    "        self.optimizer.step()\n",
    "        self.reset()"
   ]
  },
  {
   "cell_type": "markdown",
   "metadata": {},
   "source": [
    "## Model"
   ]
  },
  {
   "cell_type": "code",
   "execution_count": 14,
   "metadata": {},
   "outputs": [
    {
     "name": "stdout",
     "output_type": "stream",
     "text": [
      "Resuming training from checkpoint 'checkpoint_1050.pth'.\n"
     ]
    }
   ],
   "source": [
    "batch_size = 10\n",
    "gamma = 0.95\n",
    "load_filename = None\n",
    "load_filename = \"checkpoint_1050.pth\"\n",
    "save_directory = \"./mario_pg\"\n",
    "batch_rewards = []\n",
    "episode = 0\n",
    "\n",
    "from torch.distributions import Categorical\n",
    "\n",
    "model = MarioSolver(learning_rate=0.00025)\n",
    "if load_filename is not None:\n",
    "    episode = model.load_checkpoint(save_directory, load_filename)\n",
    "all_episode_rewards = []\n",
    "all_mean_rewards = []"
   ]
  },
  {
   "cell_type": "markdown",
   "metadata": {},
   "source": [
    "## Train"
   ]
  },
  {
   "cell_type": "code",
   "execution_count": 15,
   "metadata": {},
   "outputs": [
    {
     "name": "stderr",
     "output_type": "stream",
     "text": [
      "c:\\Python3.10.4\\lib\\site-packages\\gym\\utils\\passive_env_checker.py:272: UserWarning: \u001b[33mWARN: No render modes was declared in the environment (env.metadata['render_modes'] is None or not defined), you may have trouble when calling `.render()`.\u001b[0m\n",
      "  logger.warn(\n"
     ]
    },
    {
     "name": "stdout",
     "output_type": "stream",
     "text": [
      "Batch: 106, average reward: 306.5\n",
      "Batch: 107, average reward: 598.8\n",
      "Batch: 108, average reward: 928.7\n",
      "Batch: 109, average reward: 662.5\n",
      "Batch: 110, average reward: 963.6\n",
      "Batch: 111, average reward: 919.1\n",
      "Batch: 112, average reward: 856.2\n",
      "Batch: 113, average reward: 836.3\n",
      "Batch: 114, average reward: 834.8\n",
      "Batch: 115, average reward: 700.4\n",
      "Batch: 116, average reward: 800.7\n",
      "Batch: 117, average reward: 717.5\n",
      "Batch: 118, average reward: 894.4\n",
      "Batch: 119, average reward: 652.8\n",
      "Batch: 120, average reward: 861.2\n",
      "Batch: 121, average reward: 809.4\n",
      "Batch: 122, average reward: 830.3\n",
      "Batch: 123, average reward: 717.3\n",
      "Batch: 124, average reward: 1007.6\n",
      "Batch: 125, average reward: 930.3\n",
      "Batch: 126, average reward: 988.7\n",
      "Batch: 127, average reward: 622.9\n",
      "Batch: 128, average reward: 610.5\n",
      "Batch: 129, average reward: 529.1\n",
      "Batch: 130, average reward: 838.8\n",
      "Batch: 131, average reward: 786.7\n",
      "Batch: 132, average reward: 896.4\n",
      "Batch: 133, average reward: 1025.0\n",
      "Batch: 134, average reward: 748.8\n",
      "Batch: 135, average reward: 1067.9\n",
      "Batch: 136, average reward: 860.2\n",
      "Batch: 137, average reward: 651.7\n",
      "Batch: 138, average reward: 754.4\n",
      "Batch: 139, average reward: 955.1\n",
      "Batch: 140, average reward: 983.6\n",
      "Batch: 141, average reward: 510.3\n",
      "Batch: 142, average reward: 864.8\n",
      "Batch: 143, average reward: 339.9\n",
      "Batch: 144, average reward: 667.7\n",
      "Batch: 145, average reward: 793.3\n",
      "Batch: 146, average reward: 705.0\n",
      "Batch: 147, average reward: 830.8\n",
      "Batch: 148, average reward: 828.2\n",
      "Batch: 149, average reward: 796.2\n",
      "Batch: 150, average reward: 694.7\n",
      "Checkpoint saved to './mario_pg\\checkpoint_1500.pth'\n",
      "Batch: 151, average reward: 673.8\n",
      "Batch: 152, average reward: 554.1\n",
      "Batch: 153, average reward: 759.7\n",
      "Batch: 154, average reward: 1081.4\n",
      "Batch: 155, average reward: 786.9\n",
      "Batch: 156, average reward: 757.6\n",
      "Batch: 157, average reward: 757.4\n",
      "Batch: 158, average reward: 938.7\n",
      "Batch: 159, average reward: 983.0\n",
      "Batch: 160, average reward: 1052.6\n",
      "Batch: 161, average reward: 798.9\n",
      "Batch: 162, average reward: 729.9\n",
      "Batch: 163, average reward: 831.1\n",
      "Batch: 164, average reward: 714.1\n",
      "Batch: 165, average reward: 985.3\n",
      "Batch: 166, average reward: 826.4\n",
      "Batch: 167, average reward: 752.9\n",
      "Batch: 168, average reward: 681.9\n",
      "Batch: 169, average reward: 846.6\n",
      "Batch: 170, average reward: 934.8\n",
      "Batch: 171, average reward: 826.5\n",
      "Batch: 172, average reward: 828.2\n",
      "Batch: 173, average reward: 761.7\n",
      "Batch: 174, average reward: 590.1\n",
      "Batch: 175, average reward: 882.9\n",
      "Batch: 176, average reward: 836.6\n",
      "Batch: 177, average reward: 799.8\n",
      "Batch: 178, average reward: 889.2\n",
      "Batch: 179, average reward: 731.9\n",
      "Batch: 180, average reward: 703.2\n",
      "Batch: 181, average reward: 831.5\n",
      "Batch: 182, average reward: 980.8\n",
      "Batch: 183, average reward: 858.6\n",
      "Batch: 184, average reward: 826.0\n",
      "Batch: 185, average reward: 979.8\n",
      "Batch: 186, average reward: 853.2\n",
      "Batch: 187, average reward: 617.4\n",
      "Batch: 188, average reward: 609.2\n",
      "Batch: 189, average reward: 781.0\n",
      "Batch: 190, average reward: 746.6\n",
      "Batch: 191, average reward: 704.9\n",
      "Batch: 192, average reward: 813.7\n",
      "Batch: 193, average reward: 721.8\n",
      "Batch: 194, average reward: 652.5\n",
      "Batch: 195, average reward: 930.1\n",
      "Batch: 196, average reward: 910.0\n",
      "Batch: 197, average reward: 720.2\n",
      "Batch: 198, average reward: 1059.5\n",
      "Batch: 199, average reward: 935.8\n",
      "Batch: 200, average reward: 604.8\n",
      "Checkpoint saved to './mario_pg\\checkpoint_2000.pth'\n",
      "Batch: 201, average reward: 910.2\n",
      "Batch: 202, average reward: 664.6\n",
      "Batch: 203, average reward: 918.7\n",
      "Batch: 204, average reward: 1031.5\n",
      "Batch: 205, average reward: 785.0\n",
      "Batch: 206, average reward: 1024.2\n",
      "Batch: 207, average reward: 993.3\n",
      "Batch: 208, average reward: 771.1\n",
      "Batch: 209, average reward: 1011.2\n",
      "Batch: 210, average reward: 1075.6\n",
      "Batch: 211, average reward: 616.4\n",
      "Batch: 212, average reward: 873.4\n",
      "Batch: 213, average reward: 908.4\n",
      "Batch: 214, average reward: 637.8\n",
      "Batch: 215, average reward: 775.3\n",
      "Batch: 216, average reward: 1072.4\n",
      "Batch: 217, average reward: 889.2\n",
      "Batch: 218, average reward: 932.1\n",
      "Batch: 219, average reward: 1014.7\n",
      "Batch: 220, average reward: 950.2\n",
      "Batch: 221, average reward: 858.4\n",
      "Batch: 222, average reward: 952.6\n",
      "Batch: 223, average reward: 799.1\n",
      "Batch: 224, average reward: 689.4\n",
      "Batch: 225, average reward: 895.9\n",
      "Batch: 226, average reward: 1274.5\n",
      "Batch: 227, average reward: 864.4\n",
      "Batch: 228, average reward: 956.9\n",
      "Batch: 229, average reward: 841.9\n",
      "Batch: 230, average reward: 826.0\n",
      "Batch: 231, average reward: 1209.8\n",
      "Batch: 232, average reward: 842.9\n",
      "Batch: 233, average reward: 1025.6\n",
      "Batch: 234, average reward: 627.8\n",
      "Batch: 235, average reward: 832.7\n",
      "Batch: 236, average reward: 897.0\n",
      "Batch: 237, average reward: 924.7\n",
      "Batch: 238, average reward: 887.6\n",
      "Batch: 239, average reward: 859.3\n",
      "Batch: 240, average reward: 903.9\n",
      "Batch: 241, average reward: 995.7\n",
      "Batch: 242, average reward: 958.2\n",
      "Batch: 243, average reward: 833.1\n",
      "Batch: 244, average reward: 726.5\n",
      "Batch: 245, average reward: 1090.1\n",
      "Batch: 246, average reward: 937.2\n",
      "Batch: 247, average reward: 1366.0\n",
      "Batch: 248, average reward: 899.4\n",
      "Batch: 249, average reward: 865.0\n",
      "Batch: 250, average reward: 794.0\n",
      "Checkpoint saved to './mario_pg\\checkpoint_2500.pth'\n",
      "Batch: 251, average reward: 1331.4\n",
      "Batch: 252, average reward: 1051.2\n",
      "Batch: 253, average reward: 1199.3\n",
      "Batch: 254, average reward: 1730.5\n",
      "Batch: 255, average reward: 1094.1\n",
      "Batch: 256, average reward: 1044.8\n",
      "Batch: 257, average reward: 866.2\n",
      "Batch: 258, average reward: 859.0\n",
      "Batch: 259, average reward: 910.5\n",
      "Batch: 260, average reward: 933.1\n",
      "Batch: 261, average reward: 1197.4\n",
      "Batch: 262, average reward: 1198.2\n",
      "Batch: 263, average reward: 1048.3\n",
      "Batch: 264, average reward: 566.6\n",
      "Batch: 265, average reward: 970.6\n",
      "Batch: 266, average reward: 1015.8\n",
      "Batch: 267, average reward: 1087.1\n",
      "Batch: 268, average reward: 1266.9\n",
      "Batch: 269, average reward: 1030.6\n",
      "Batch: 270, average reward: 1338.2\n",
      "Batch: 271, average reward: 890.3\n",
      "Batch: 272, average reward: 917.2\n",
      "Batch: 273, average reward: 1035.5\n",
      "Batch: 274, average reward: 1299.9\n",
      "Batch: 275, average reward: 1185.7\n",
      "Batch: 276, average reward: 1104.5\n",
      "Batch: 277, average reward: 1129.0\n",
      "Batch: 278, average reward: 980.8\n",
      "Batch: 279, average reward: 906.3\n",
      "Batch: 280, average reward: 1617.1\n",
      "Batch: 281, average reward: 973.0\n",
      "Batch: 282, average reward: 1407.5\n",
      "Batch: 283, average reward: 1041.5\n",
      "Batch: 284, average reward: 957.3\n",
      "Batch: 285, average reward: 1215.6\n",
      "Batch: 286, average reward: 1502.4\n",
      "Batch: 287, average reward: 1454.1\n",
      "Batch: 288, average reward: 1485.2\n",
      "Batch: 289, average reward: 1600.0\n",
      "Batch: 290, average reward: 1360.4\n",
      "Batch: 291, average reward: 1582.0\n",
      "Batch: 292, average reward: 615.6\n",
      "Batch: 293, average reward: 739.7\n",
      "Batch: 294, average reward: 1431.1\n",
      "Batch: 295, average reward: 1284.0\n",
      "Batch: 296, average reward: 1542.2\n",
      "Batch: 297, average reward: 1371.1\n",
      "Batch: 298, average reward: 1083.4\n",
      "Batch: 299, average reward: 1685.8\n",
      "Batch: 300, average reward: 940.1\n",
      "Checkpoint saved to './mario_pg\\checkpoint_3000.pth'\n",
      "Batch: 301, average reward: 1187.4\n",
      "Batch: 302, average reward: 810.6\n",
      "Batch: 303, average reward: 1285.1\n",
      "Batch: 304, average reward: 1411.7\n",
      "Batch: 305, average reward: 1119.8\n",
      "Batch: 306, average reward: 1552.5\n",
      "Batch: 307, average reward: 1196.4\n",
      "Batch: 308, average reward: 1587.4\n",
      "Batch: 309, average reward: 1733.4\n",
      "Batch: 310, average reward: 1172.1\n",
      "Batch: 311, average reward: 2081.2\n",
      "Batch: 312, average reward: 1458.6\n",
      "Batch: 313, average reward: 1977.6\n",
      "Batch: 314, average reward: 1392.7\n"
     ]
    },
    {
     "ename": "KeyboardInterrupt",
     "evalue": "",
     "output_type": "error",
     "traceback": [
      "\u001b[1;31m---------------------------------------------------------------------------\u001b[0m",
      "\u001b[1;31mKeyboardInterrupt\u001b[0m                         Traceback (most recent call last)",
      "\u001b[1;32mc:\\Users\\Guntsv\\Documents\\GitHub\\ML_Project\\mario_pg.ipynb Cell 17\u001b[0m in \u001b[0;36m<cell line: 1>\u001b[1;34m()\u001b[0m\n\u001b[0;32m      <a href='vscode-notebook-cell:/c%3A/Users/Guntsv/Documents/GitHub/ML_Project/mario_pg.ipynb#X22sZmlsZQ%3D%3D?line=5'>6</a>\u001b[0m \u001b[39m# observation = torch.tensor(observation.__array__()).cuda().unsqueeze(0)\u001b[39;00m\n\u001b[0;32m      <a href='vscode-notebook-cell:/c%3A/Users/Guntsv/Documents/GitHub/ML_Project/mario_pg.ipynb#X22sZmlsZQ%3D%3D?line=6'>7</a>\u001b[0m observation \u001b[39m=\u001b[39m torch\u001b[39m.\u001b[39mtensor(observation\u001b[39m.\u001b[39m__array__())\u001b[39m.\u001b[39munsqueeze(\u001b[39m0\u001b[39m)\u001b[39m.\u001b[39mto(device)\n\u001b[1;32m----> <a href='vscode-notebook-cell:/c%3A/Users/Guntsv/Documents/GitHub/ML_Project/mario_pg.ipynb#X22sZmlsZQ%3D%3D?line=7'>8</a>\u001b[0m distribution \u001b[39m=\u001b[39m Categorical(model\u001b[39m.\u001b[39;49mforward(observation))\n\u001b[0;32m      <a href='vscode-notebook-cell:/c%3A/Users/Guntsv/Documents/GitHub/ML_Project/mario_pg.ipynb#X22sZmlsZQ%3D%3D?line=8'>9</a>\u001b[0m action \u001b[39m=\u001b[39m distribution\u001b[39m.\u001b[39msample()\n\u001b[0;32m     <a href='vscode-notebook-cell:/c%3A/Users/Guntsv/Documents/GitHub/ML_Project/mario_pg.ipynb#X22sZmlsZQ%3D%3D?line=9'>10</a>\u001b[0m observation, reward, done, _, info \u001b[39m=\u001b[39m env\u001b[39m.\u001b[39mstep(action\u001b[39m.\u001b[39mitem())\n",
      "\u001b[1;32mc:\\Users\\Guntsv\\Documents\\GitHub\\ML_Project\\mario_pg.ipynb Cell 17\u001b[0m in \u001b[0;36mMarioSolver.forward\u001b[1;34m(self, x)\u001b[0m\n\u001b[0;32m     <a href='vscode-notebook-cell:/c%3A/Users/Guntsv/Documents/GitHub/ML_Project/mario_pg.ipynb#X22sZmlsZQ%3D%3D?line=18'>19</a>\u001b[0m \u001b[39mdef\u001b[39;00m \u001b[39mforward\u001b[39m(\u001b[39mself\u001b[39m, x):\n\u001b[1;32m---> <a href='vscode-notebook-cell:/c%3A/Users/Guntsv/Documents/GitHub/ML_Project/mario_pg.ipynb#X22sZmlsZQ%3D%3D?line=19'>20</a>\u001b[0m     \u001b[39mreturn\u001b[39;00m \u001b[39mself\u001b[39;49m\u001b[39m.\u001b[39;49mmodel(x)\n",
      "File \u001b[1;32mc:\\Python3.10.4\\lib\\site-packages\\torch\\nn\\modules\\module.py:1130\u001b[0m, in \u001b[0;36mModule._call_impl\u001b[1;34m(self, *input, **kwargs)\u001b[0m\n\u001b[0;32m   1126\u001b[0m \u001b[39m# If we don't have any hooks, we want to skip the rest of the logic in\u001b[39;00m\n\u001b[0;32m   1127\u001b[0m \u001b[39m# this function, and just call forward.\u001b[39;00m\n\u001b[0;32m   1128\u001b[0m \u001b[39mif\u001b[39;00m \u001b[39mnot\u001b[39;00m (\u001b[39mself\u001b[39m\u001b[39m.\u001b[39m_backward_hooks \u001b[39mor\u001b[39;00m \u001b[39mself\u001b[39m\u001b[39m.\u001b[39m_forward_hooks \u001b[39mor\u001b[39;00m \u001b[39mself\u001b[39m\u001b[39m.\u001b[39m_forward_pre_hooks \u001b[39mor\u001b[39;00m _global_backward_hooks\n\u001b[0;32m   1129\u001b[0m         \u001b[39mor\u001b[39;00m _global_forward_hooks \u001b[39mor\u001b[39;00m _global_forward_pre_hooks):\n\u001b[1;32m-> 1130\u001b[0m     \u001b[39mreturn\u001b[39;00m forward_call(\u001b[39m*\u001b[39m\u001b[39minput\u001b[39m, \u001b[39m*\u001b[39m\u001b[39m*\u001b[39mkwargs)\n\u001b[0;32m   1131\u001b[0m \u001b[39m# Do not call functions when jit is used\u001b[39;00m\n\u001b[0;32m   1132\u001b[0m full_backward_hooks, non_full_backward_hooks \u001b[39m=\u001b[39m [], []\n",
      "File \u001b[1;32mc:\\Python3.10.4\\lib\\site-packages\\torch\\nn\\modules\\container.py:139\u001b[0m, in \u001b[0;36mSequential.forward\u001b[1;34m(self, input)\u001b[0m\n\u001b[0;32m    137\u001b[0m \u001b[39mdef\u001b[39;00m \u001b[39mforward\u001b[39m(\u001b[39mself\u001b[39m, \u001b[39minput\u001b[39m):\n\u001b[0;32m    138\u001b[0m     \u001b[39mfor\u001b[39;00m module \u001b[39min\u001b[39;00m \u001b[39mself\u001b[39m:\n\u001b[1;32m--> 139\u001b[0m         \u001b[39minput\u001b[39m \u001b[39m=\u001b[39m module(\u001b[39minput\u001b[39;49m)\n\u001b[0;32m    140\u001b[0m     \u001b[39mreturn\u001b[39;00m \u001b[39minput\u001b[39m\n",
      "File \u001b[1;32mc:\\Python3.10.4\\lib\\site-packages\\torch\\nn\\modules\\module.py:1130\u001b[0m, in \u001b[0;36mModule._call_impl\u001b[1;34m(self, *input, **kwargs)\u001b[0m\n\u001b[0;32m   1126\u001b[0m \u001b[39m# If we don't have any hooks, we want to skip the rest of the logic in\u001b[39;00m\n\u001b[0;32m   1127\u001b[0m \u001b[39m# this function, and just call forward.\u001b[39;00m\n\u001b[0;32m   1128\u001b[0m \u001b[39mif\u001b[39;00m \u001b[39mnot\u001b[39;00m (\u001b[39mself\u001b[39m\u001b[39m.\u001b[39m_backward_hooks \u001b[39mor\u001b[39;00m \u001b[39mself\u001b[39m\u001b[39m.\u001b[39m_forward_hooks \u001b[39mor\u001b[39;00m \u001b[39mself\u001b[39m\u001b[39m.\u001b[39m_forward_pre_hooks \u001b[39mor\u001b[39;00m _global_backward_hooks\n\u001b[0;32m   1129\u001b[0m         \u001b[39mor\u001b[39;00m _global_forward_hooks \u001b[39mor\u001b[39;00m _global_forward_pre_hooks):\n\u001b[1;32m-> 1130\u001b[0m     \u001b[39mreturn\u001b[39;00m forward_call(\u001b[39m*\u001b[39m\u001b[39minput\u001b[39m, \u001b[39m*\u001b[39m\u001b[39m*\u001b[39mkwargs)\n\u001b[0;32m   1131\u001b[0m \u001b[39m# Do not call functions when jit is used\u001b[39;00m\n\u001b[0;32m   1132\u001b[0m full_backward_hooks, non_full_backward_hooks \u001b[39m=\u001b[39m [], []\n",
      "File \u001b[1;32mc:\\Python3.10.4\\lib\\site-packages\\torch\\nn\\modules\\conv.py:457\u001b[0m, in \u001b[0;36mConv2d.forward\u001b[1;34m(self, input)\u001b[0m\n\u001b[0;32m    456\u001b[0m \u001b[39mdef\u001b[39;00m \u001b[39mforward\u001b[39m(\u001b[39mself\u001b[39m, \u001b[39minput\u001b[39m: Tensor) \u001b[39m-\u001b[39m\u001b[39m>\u001b[39m Tensor:\n\u001b[1;32m--> 457\u001b[0m     \u001b[39mreturn\u001b[39;00m \u001b[39mself\u001b[39;49m\u001b[39m.\u001b[39;49m_conv_forward(\u001b[39minput\u001b[39;49m, \u001b[39mself\u001b[39;49m\u001b[39m.\u001b[39;49mweight, \u001b[39mself\u001b[39;49m\u001b[39m.\u001b[39;49mbias)\n",
      "File \u001b[1;32mc:\\Python3.10.4\\lib\\site-packages\\torch\\nn\\modules\\conv.py:453\u001b[0m, in \u001b[0;36mConv2d._conv_forward\u001b[1;34m(self, input, weight, bias)\u001b[0m\n\u001b[0;32m    449\u001b[0m \u001b[39mif\u001b[39;00m \u001b[39mself\u001b[39m\u001b[39m.\u001b[39mpadding_mode \u001b[39m!=\u001b[39m \u001b[39m'\u001b[39m\u001b[39mzeros\u001b[39m\u001b[39m'\u001b[39m:\n\u001b[0;32m    450\u001b[0m     \u001b[39mreturn\u001b[39;00m F\u001b[39m.\u001b[39mconv2d(F\u001b[39m.\u001b[39mpad(\u001b[39minput\u001b[39m, \u001b[39mself\u001b[39m\u001b[39m.\u001b[39m_reversed_padding_repeated_twice, mode\u001b[39m=\u001b[39m\u001b[39mself\u001b[39m\u001b[39m.\u001b[39mpadding_mode),\n\u001b[0;32m    451\u001b[0m                     weight, bias, \u001b[39mself\u001b[39m\u001b[39m.\u001b[39mstride,\n\u001b[0;32m    452\u001b[0m                     _pair(\u001b[39m0\u001b[39m), \u001b[39mself\u001b[39m\u001b[39m.\u001b[39mdilation, \u001b[39mself\u001b[39m\u001b[39m.\u001b[39mgroups)\n\u001b[1;32m--> 453\u001b[0m \u001b[39mreturn\u001b[39;00m F\u001b[39m.\u001b[39;49mconv2d(\u001b[39minput\u001b[39;49m, weight, bias, \u001b[39mself\u001b[39;49m\u001b[39m.\u001b[39;49mstride,\n\u001b[0;32m    454\u001b[0m                 \u001b[39mself\u001b[39;49m\u001b[39m.\u001b[39;49mpadding, \u001b[39mself\u001b[39;49m\u001b[39m.\u001b[39;49mdilation, \u001b[39mself\u001b[39;49m\u001b[39m.\u001b[39;49mgroups)\n",
      "\u001b[1;31mKeyboardInterrupt\u001b[0m: "
     ]
    },
    {
     "data": {
      "text/plain": [
       "<Figure size 432x288 with 0 Axes>"
      ]
     },
     "metadata": {},
     "output_type": "display_data"
    }
   ],
   "source": [
    "while True:\n",
    "    observation,info  = env.reset()\n",
    "    done = False\n",
    "    while not done:\n",
    "        env.render()\n",
    "        # observation = torch.tensor(observation.__array__()).cuda().unsqueeze(0)\n",
    "        observation = torch.tensor(observation.__array__()).unsqueeze(0).to(device)\n",
    "        distribution = Categorical(model.forward(observation))\n",
    "        action = distribution.sample()\n",
    "        observation, reward, done, _, info = env.step(action.item())\n",
    "        model.episode_actions = torch.cat([model.episode_actions, distribution.log_prob(action).reshape(1)])\n",
    "        model.episode_rewards.append(reward)\n",
    "        if done:\n",
    "            all_episode_rewards.append(np.sum(model.episode_rewards))\n",
    "            batch_rewards.append(np.sum(model.episode_rewards))\n",
    "            model.backward()\n",
    "            episode += 1\n",
    "            if episode % batch_size == 0:\n",
    "                print('Batch: {}, average reward: {}'.format(episode // batch_size, np.array(batch_rewards).mean()))\n",
    "                batch_rewards = []\n",
    "                all_mean_rewards.append(np.mean(all_episode_rewards[-batch_size:]))\n",
    "                plt.plot(all_mean_rewards)\n",
    "                if episode % 500 == 0:\n",
    "                    plt.savefig(\"{}/mean_reward_{}.png\".format(save_directory, episode))\n",
    "                plt.clf()\n",
    "            if episode % 500 == 0 and save_directory is not None:\n",
    "                model.save_checkpoint(save_directory, episode)"
   ]
  }
 ],
 "metadata": {
  "kernelspec": {
   "display_name": "Python 3.10.4 64-bit",
   "language": "python",
   "name": "python3"
  },
  "language_info": {
   "codemirror_mode": {
    "name": "ipython",
    "version": 3
   },
   "file_extension": ".py",
   "mimetype": "text/x-python",
   "name": "python",
   "nbconvert_exporter": "python",
   "pygments_lexer": "ipython3",
   "version": "3.10.4"
  },
  "orig_nbformat": 4,
  "vscode": {
   "interpreter": {
    "hash": "c81d839d3c4227cd770621df97fe8191838af02e7eef185a922d8250cb33d344"
   }
  }
 },
 "nbformat": 4,
 "nbformat_minor": 2
}
