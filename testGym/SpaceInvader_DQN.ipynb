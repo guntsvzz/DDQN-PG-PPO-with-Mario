{
 "cells": [
  {
   "cell_type": "code",
   "execution_count": 6,
   "metadata": {},
   "outputs": [],
   "source": [
    "import numpy as np\n",
    "import random\n",
    "from collections import deque\n",
    "import torch\n",
    "import math\n",
    "import torch.nn as nn\n",
    "import gym\n",
    "\n",
    "def gen_epsilon_greedy_policy(epsilon):\n",
    "    def policy_function(state, Q, available_actions):\n",
    "        probs = torch.ones(len(available_actions)) * epsilon / len(available_actions)\n",
    "        best_action = Q(state).squeeze()[available_actions].argmax().item()\n",
    "        probs[best_action] += 1.0 - epsilon\n",
    "        action = torch.multinomial(probs,1).item()\n",
    "        return available_actions[action]\n",
    "    return policy_function\n",
    "\n",
    "class Q_network(nn.Module):\n",
    "    \n",
    "    def __init__(self, n_action):\n",
    "        super(Q_network, self).__init__()        \n",
    "        self.layers = nn.Sequential(\n",
    "            nn.Conv2d(4, 16, 3, stride=2),\n",
    "            nn.ReLU(),\n",
    "            nn.Conv2d(16, 32, 3, stride=2),\n",
    "            nn.ReLU(),\n",
    "            nn.Conv2d(32, 64, 3, stride=2),\n",
    "            nn.ReLU(),\n",
    "            nn.Conv2d(64, 64, 3, stride=2),\n",
    "            nn.ReLU(),\n",
    "            nn.AvgPool2d((12,9)),\n",
    "            nn.Flatten(),\n",
    "            nn.Linear(64, 32),\n",
    "            nn.ReLU(),\n",
    "            nn.Linear(32, n_action)\n",
    "        )\n",
    "        \n",
    "    def forward(self, x):\n",
    "        return self.layers(x)\n",
    "\n",
    "\n",
    "class ReplayBuffer(object):\n",
    "    def __init__(self, capacity):\n",
    "        self.buffer = deque(maxlen=capacity)\n",
    "    \n",
    "    def push(self, state, action, reward, next_state, done):\n",
    "        self.buffer.append((state, action, reward, next_state, done))\n",
    "    \n",
    "    def sample(self, batch_size):\n",
    "        state, action, reward, next_state, done = zip(*random.sample(self.buffer, batch_size))\n",
    "        return torch.stack(state).squeeze(),  torch.tensor(action), torch.tensor(reward), torch.stack(next_state).squeeze(), torch.tensor(done).squeeze()\n",
    "    \n",
    "    def __len__(self):\n",
    "        return len(self.buffer)\n",
    "\n",
    "def gen_eps_by_episode(epsilon_start, epsilon_final, epsilon_decay):\n",
    "    def eps_by_episode(episode):\n",
    "        return epsilon_final + (epsilon_start - epsilon_final) * math.exp(-1. * episode / epsilon_decay)\n",
    "    return eps_by_episode\n",
    "\n",
    "class Agent(object):\n",
    "\n",
    "    def __init__(self, env, eps_by_episode):\n",
    "        self.env = env\n",
    "        self.n_actions = env.action_space.n\n",
    "        self.eps_by_episode = eps_by_episode\n",
    "        self.episodes = 0\n",
    "        self.stack_size = 4\n",
    "        self.skip_frames = 4\n",
    "        self.restart_episode()\n",
    "\n",
    "    def buffer(self,obs):\n",
    "        obs = torch.tensor(obs).max(2).values / 255.0\n",
    "        self.obs_buffer.append(obs)\n",
    "\n",
    "    def restart_episode(self):\n",
    "        obs, info = self.env.reset()\n",
    "        self.policy = gen_epsilon_greedy_policy(self.eps_by_episode(self.episodes))\n",
    "        self.obs_buffer = deque(maxlen=((self.stack_size-1)*self.skip_frames+1))\n",
    "        self.buffer(obs)\n",
    "        self.episodes += 1\n",
    "\n",
    "    def collect_state(self):\n",
    "        frame_inds = [-1-n*self.skip_frames for n in range(self.stack_size)]\n",
    "        frames = [self.obs_buffer[max(f,-len(self.obs_buffer))] for f in frame_inds]\n",
    "        return torch.stack(frames)\n",
    "\n",
    "    def act(self,Q):\n",
    "        state = self.collect_state().unsqueeze(0)\n",
    "        action = self.policy(state,Q,range(self.n_actions))\n",
    "        obs, reward, terminated , truncated, info = self.env.step(action)\n",
    "        self.buffer(obs)\n",
    "        new_state = self.collect_state().squeeze(0)\n",
    "        if terminated or truncated:\n",
    "            self.restart_episode()\n",
    "        return state, action, reward, new_state, terminated or truncated"
   ]
  },
  {
   "cell_type": "code",
   "execution_count": 7,
   "metadata": {},
   "outputs": [
    {
     "data": {
      "text/plain": [
       "device(type='cpu')"
      ]
     },
     "execution_count": 7,
     "metadata": {},
     "output_type": "execute_result"
    }
   ],
   "source": [
    "import torch\n",
    "device = torch.device(\"cuda:0\" if (torch.cuda.is_available()) else \"cpu\")\n",
    "device"
   ]
  },
  {
   "cell_type": "markdown",
   "metadata": {},
   "source": [
    "<img src = \"Methodology.jpg\" width=\"800\">"
   ]
  },
  {
   "cell_type": "code",
   "execution_count": 8,
   "metadata": {},
   "outputs": [
    {
     "name": "stdout",
     "output_type": "stream",
     "text": [
      "Action : 7\n"
     ]
    },
    {
     "data": {
      "text/plain": [
       "<matplotlib.image.AxesImage at 0x240d24c3ee0>"
      ]
     },
     "execution_count": 8,
     "metadata": {},
     "output_type": "execute_result"
    },
    {
     "data": {
      "image/png": "[encoded data removed]",
      "text/plain": [
       "<Figure size 432x288 with 1 Axes>"
      ]
     },
     "metadata": {
      "needs_background": "light"
     },
     "output_type": "display_data"
    }
   ],
   "source": [
    "import gym_super_mario_bros\n",
    "from gym_super_mario_bros.actions import SIMPLE_MOVEMENT,COMPLEX_MOVEMENT \n",
    "from nes_py.wrappers import JoypadSpace\n",
    "import matplotlib.pyplot as plt\n",
    "env = gym_super_mario_bros.make(\"SuperMarioBros-1-1-v1\", render_mode='rgb_array', apply_api_compatibility=True)\n",
    "env = JoypadSpace(env, SIMPLE_MOVEMENT)\n",
    "n_actions = env.action_space.n\n",
    "print(\"Action :\",n_actions)\n",
    "env.reset()\n",
    "next_state, reward, done, _, info = env.step(env.action_space.sample())\n",
    "plt.imshow(next_state)"
   ]
  },
  {
   "cell_type": "code",
   "execution_count": 1,
   "metadata": {},
   "outputs": [
    {
     "name": "stdout",
     "output_type": "stream",
     "text": [
      "Action : 6\n"
     ]
    },
    {
     "data": {
      "image/png": "[encoded data removed]",
      "text/plain": [
       "<Figure size 432x288 with 1 Axes>"
      ]
     },
     "metadata": {
      "needs_background": "light"
     },
     "output_type": "display_data"
    }
   ],
   "source": [
    "import gym\n",
    "import matplotlib.pyplot as plt\n",
    "env = gym.make(\"ALE/SpaceInvaders-v5\", obs_type='rgb', render_mode='human')\n",
    "n_actions = env.action_space.n\n",
    "print(\"Action :\",n_actions)\n",
    "env.reset()\n",
    "next_state, reward, done, _, info = env.step(env.action_space.sample())\n",
    "plt.imshow(next_state)\n",
    "\n",
    "obs, info = env.reset()"
   ]
  },
  {
   "cell_type": "code",
   "execution_count": 5,
   "metadata": {},
   "outputs": [
    {
     "data": {
      "text/plain": [
       "((210, 160, 3), {'lives': 3, 'episode_frame_number': 0, 'frame_number': 4})"
      ]
     },
     "execution_count": 5,
     "metadata": {},
     "output_type": "execute_result"
    }
   ],
   "source": [
    "obs.shape, info"
   ]
  },
  {
   "cell_type": "code",
   "execution_count": 4,
   "metadata": {},
   "outputs": [],
   "source": [
    "import matplotlib.pyplot as plt\n",
    "import gym\n",
    "import copy\n",
    "from IPython import display\n",
    "%matplotlib inline\n",
    "\n",
    "bufsize = 100\n",
    "epsilon_start = 1.0\n",
    "epsilon_final = 0.01\n",
    "epsilon_decay = 1000\n",
    "batch_size = 64\n",
    "gamma = 0.99\n",
    "\n",
    "Q = Q_network(n_actions).to(device)\n",
    "Qhat = Q_network(n_actions).to(device)\n",
    "D = ReplayBuffer(bufsize)\n",
    "eps_by_episode = gen_eps_by_episode(epsilon_start,epsilon_final,epsilon_decay)\n",
    "A = Agent(env, eps_by_episode)\n",
    "\n",
    "loss_fn = nn.MSELoss()\n",
    "optimzer = torch.optim.Adam(Q.parameters())\n",
    "\n",
    "Q.train()\n",
    "Qhat.eval()\n",
    "step = 0\n",
    "C = 1000\n",
    "episode_rewards = 0\n",
    "episodes_rewards = []\n",
    "\n",
    "while True:\n",
    "    state, aciton, reward, next_state, done = A.act(Q)\n",
    "    # plt.imshow(torch.permute(next_state,(1,2,0)))\n",
    "    # display.display(plt.gcf())    \n",
    "    # display.clear_output(wait=True)\n",
    "    episode_rewards += reward\n",
    "    if done:\n",
    "        print('Done :',done)\n",
    "        episodes_rewards.append(episode_rewards)\n",
    "        episode_rewards = 0\n",
    "        display.clear_output(wait=True)\n",
    "        plt.plot(episodes_rewards)\n",
    "        display.display(plt.gcf())\n",
    "\n",
    "    D.push(state, aciton, reward, next_state, done)\n",
    "    if len(D) >= batch_size:\n",
    "        states, acitons, rewards, next_states, dones = D.sample(batch_size)\n",
    "        # plt.imshow(torch.permute(next_states[0],(1,2,0)))\n",
    "        # display.display(plt.gcf())    \n",
    "        # display.clear_output(wait=True)\n",
    "        outputs = Q(states).gather(-1,acitons.unsqueeze(1)).squeeze()\n",
    "        targets = rewards + gamma*Qhat(next_states).max(1).values.detach() * dones\n",
    "        loss = loss_fn(outputs,targets)\n",
    "        # print('Loss %f' % loss)\n",
    "        loss.backward()\n",
    "        optimzer.step()\n",
    "        if (step+1) % C == 0 :\n",
    "            Qhat = copy.deepcopy(Q)\n",
    "            Qhat.eval()\n",
    "        step += 1a"
   ]
  },
  {
   "cell_type": "code",
   "execution_count": null,
   "metadata": {},
   "outputs": [],
   "source": []
  }
 ],
 "metadata": {
  "kernelspec": {
   "display_name": "Python 3.10.4 64-bit",
   "language": "python",
   "name": "python3"
  },
  "language_info": {
   "codemirror_mode": {
    "name": "ipython",
    "version": 3
   },
   "file_extension": ".py",
   "mimetype": "text/x-python",
   "name": "python",
   "nbconvert_exporter": "python",
   "pygments_lexer": "ipython3",
   "version": "3.10.4"
  },
  "orig_nbformat": 4,
  "vscode": {
   "interpreter": {
    "hash": "c81d839d3c4227cd770621df97fe8191838af02e7eef185a922d8250cb33d344"
   }
  }
 },
 "nbformat": 4,
 "nbformat_minor": 2
}
